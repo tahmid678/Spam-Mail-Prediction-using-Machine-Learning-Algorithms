{
  "nbformat": 4,
  "nbformat_minor": 0,
  "metadata": {
    "colab": {
      "name": "Spam Mail Detection using Logistic Regression.ipynb",
      "provenance": []
    },
    "kernelspec": {
      "name": "python3",
      "display_name": "Python 3"
    },
    "language_info": {
      "name": "python"
    }
  },
  "cells": [
    {
      "cell_type": "markdown",
      "source": [
        "Importing the depedencies"
      ],
      "metadata": {
        "id": "Pghb8JIhtJzJ"
      }
    },
    {
      "cell_type": "code",
      "execution_count": 25,
      "metadata": {
        "id": "R0oypZbSrJhm"
      },
      "outputs": [],
      "source": [
        "import numpy as np\n",
        "import pandas as pd\n",
        "from sklearn.model_selection import train_test_split\n",
        "from sklearn.feature_extraction.text import TfidfVectorizer\n",
        "from sklearn.linear_model import LogisticRegression\n",
        "from sklearn.metrics import accuracy_score,r2_score,explained_variance_score,mean_absolute_percentage_error"
      ]
    },
    {
      "cell_type": "markdown",
      "source": [
        "Data Collection and Pre-processing"
      ],
      "metadata": {
        "id": "LGKTUGlxwemm"
      }
    },
    {
      "cell_type": "code",
      "source": [
        "#loading the data from csv file into pandas Dataframe\n",
        "raw_data=pd.read_csv('/content/spam_mail_detection_dataset.csv', encoding=\"ISO-8859-1\")"
      ],
      "metadata": {
        "id": "INgfoi4rvtJO"
      },
      "execution_count": 26,
      "outputs": []
    },
    {
      "cell_type": "code",
      "source": [
        "print(raw_data)"
      ],
      "metadata": {
        "id": "aeafMvC8xE-K"
      },
      "execution_count": null,
      "outputs": []
    },
    {
      "cell_type": "code",
      "source": [
        "#replace the null values with null string\n",
        "mail_data=raw_data.where((pd.notnull(raw_data)),'')"
      ],
      "metadata": {
        "id": "Bahf5y4MzvMH"
      },
      "execution_count": 28,
      "outputs": []
    },
    {
      "cell_type": "code",
      "source": [
        "#printing the first 10 rows of the dataset\n",
        "mail_data.head()"
      ],
      "metadata": {
        "id": "MDDRC1v_1M_n"
      },
      "execution_count": null,
      "outputs": []
    },
    {
      "cell_type": "code",
      "source": [
        "#checking the number of rows and columns in the dataframe\n",
        "mail_data.shape"
      ],
      "metadata": {
        "id": "B5xNy80b1ky-"
      },
      "execution_count": null,
      "outputs": []
    },
    {
      "cell_type": "markdown",
      "source": [
        "Label Encoding"
      ],
      "metadata": {
        "id": "BTMkYDzS3R--"
      }
    },
    {
      "cell_type": "code",
      "source": [
        "#spam as 0 and ham as 1\n",
        "mail_data.loc[mail_data['Category']=='spam', 'Category',]=0\n",
        "mail_data.loc[mail_data['Category']=='ham', 'Category',]=1"
      ],
      "metadata": {
        "id": "bi7w2kJX2KiO"
      },
      "execution_count": 31,
      "outputs": []
    },
    {
      "cell_type": "code",
      "source": [
        "#separating the data as texts and label\n",
        "\n",
        "X = mail_data['Message']\n",
        "Y = mail_data['Category']"
      ],
      "metadata": {
        "id": "HozTzEp_3zHE"
      },
      "execution_count": 32,
      "outputs": []
    },
    {
      "cell_type": "code",
      "source": [
        "print(X)"
      ],
      "metadata": {
        "id": "H9ajMBl94rtF"
      },
      "execution_count": null,
      "outputs": []
    },
    {
      "cell_type": "code",
      "source": [
        "print(Y)"
      ],
      "metadata": {
        "id": "wvC4GW2S4uJt"
      },
      "execution_count": null,
      "outputs": []
    },
    {
      "cell_type": "markdown",
      "source": [
        "Splitting the data into training and testing data"
      ],
      "metadata": {
        "id": "ZRqq37YR6QG2"
      }
    },
    {
      "cell_type": "code",
      "source": [
        "X_train, X_test, Y_train, Y_test = train_test_split(X,Y,test_size=0.2,random_state=3)"
      ],
      "metadata": {
        "id": "FQgEUfuy4xg0"
      },
      "execution_count": 35,
      "outputs": []
    },
    {
      "cell_type": "code",
      "source": [
        "print(X.shape)\n",
        "print(X_train.shape)\n",
        "print(X_test.shape)"
      ],
      "metadata": {
        "id": "xU_siqIy6mVu"
      },
      "execution_count": null,
      "outputs": []
    },
    {
      "cell_type": "code",
      "source": [
        ""
      ],
      "metadata": {
        "id": "t0EQms0m7BCQ"
      },
      "execution_count": 36,
      "outputs": []
    },
    {
      "cell_type": "markdown",
      "source": [
        "Feature Extraction"
      ],
      "metadata": {
        "id": "vbnx2Lc_82GS"
      }
    },
    {
      "cell_type": "code",
      "source": [
        "#transform the text data to feature vectors that can be used as input to the Logistic Regression model\n",
        "feature_extraction = TfidfVectorizer(min_df =1, stop_words='english', lowercase='True')\n",
        "X_train_features = feature_extraction.fit_transform(X_train)\n",
        "X_test_features = feature_extraction.transform(X_test)\n",
        "\n",
        "#convert Y_train and Y_test values as integers\n",
        "Y_train = Y_train.astype('int')\n",
        "Y_test = Y_test.astype('int')"
      ],
      "metadata": {
        "id": "KKqohEUg85LH"
      },
      "execution_count": 37,
      "outputs": []
    },
    {
      "cell_type": "code",
      "source": [
        "print(X_train_features)"
      ],
      "metadata": {
        "id": "-m9w8-Ih-fgu"
      },
      "execution_count": null,
      "outputs": []
    },
    {
      "cell_type": "markdown",
      "source": [
        "Training the Logistic Regression model"
      ],
      "metadata": {
        "id": "RAbVq-_H_PiH"
      }
    },
    {
      "cell_type": "code",
      "source": [
        "model = LogisticRegression()"
      ],
      "metadata": {
        "id": "8dDean9e-4aK"
      },
      "execution_count": 39,
      "outputs": []
    },
    {
      "cell_type": "code",
      "source": [
        "#training the model with the training data\n",
        "model.fit(X_train_features,Y_train)"
      ],
      "metadata": {
        "id": "MN7pkedu_bRC"
      },
      "execution_count": null,
      "outputs": []
    },
    {
      "cell_type": "code",
      "source": [
        ""
      ],
      "metadata": {
        "id": "W6ZGcaFy_rnb"
      },
      "execution_count": 41,
      "outputs": []
    },
    {
      "cell_type": "markdown",
      "source": [
        "Evaluating the trained model"
      ],
      "metadata": {
        "id": "BrcTKd9LAaF4"
      }
    },
    {
      "cell_type": "code",
      "source": [
        "#prediction on training data\n",
        "\n",
        "prediction_on_training_data = model.predict(X_train_features)\n",
        "accuracy_on_training_data = accuracy_score(Y_train, prediction_on_training_data)"
      ],
      "metadata": {
        "id": "sXNTW6bEAfeF"
      },
      "execution_count": 42,
      "outputs": []
    },
    {
      "cell_type": "code",
      "source": [
        "print('Accuracy on training data :',accuracy_on_training_data)"
      ],
      "metadata": {
        "id": "USjU_bVnA8hs"
      },
      "execution_count": null,
      "outputs": []
    },
    {
      "cell_type": "code",
      "source": [
        "#prediction on test data\n",
        "\n",
        "prediction_on_test_data = model.predict(X_test_features)\n",
        "accuracy_on_test_data = accuracy_score(Y_test, prediction_on_test_data)"
      ],
      "metadata": {
        "id": "F4kQjQQiBQP9"
      },
      "execution_count": 44,
      "outputs": []
    },
    {
      "cell_type": "code",
      "source": [
        "print('Accuracy on test data :',accuracy_on_test_data)"
      ],
      "metadata": {
        "id": "5thWBtXMCa0f"
      },
      "execution_count": null,
      "outputs": []
    },
    {
      "cell_type": "code",
      "source": [
        "print('r2_score: ',r2_score(Y_test,prediction_on_test_data)*100)\n",
        "print('explained_variance_score: ',explained_variance_score(Y_test,prediction_on_test_data)*100)\n",
        "print('mean_absolute_percentage_error : ',mean_absolute_percentage_error(Y_test,prediction_on_test_data)*100)"
      ],
      "metadata": {
        "id": "RsWIV7TZC3Nx"
      },
      "execution_count": null,
      "outputs": []
    },
    {
      "cell_type": "markdown",
      "source": [
        "Predictive System"
      ],
      "metadata": {
        "id": "tkPD4RfLDnp3"
      }
    },
    {
      "cell_type": "code",
      "source": [
        "input_mail=[\"Is that seriously how you spell his name?\"]\n",
        "input_data_features = feature_extraction.transform(input_mail)\n",
        "prediction = model.predict(input_data_features)\n",
        "\n",
        "if prediction[0]==1:\n",
        "  print(\"Ham Mail\")\n",
        "else:\n",
        "  print(\"Spam Mail\")"
      ],
      "metadata": {
        "colab": {
          "base_uri": "https://localhost:8080/"
        },
        "id": "_IsmafWxDppG",
        "outputId": "61e5de9e-e245-41c8-bfa6-4ad10e46c537"
      },
      "execution_count": 47,
      "outputs": [
        {
          "output_type": "stream",
          "name": "stdout",
          "text": [
            "Ham Mail\n"
          ]
        }
      ]
    },
    {
      "cell_type": "code",
      "source": [
        ""
      ],
      "metadata": {
        "id": "IjDmr6FVE2Dd"
      },
      "execution_count": null,
      "outputs": []
    }
  ]
}