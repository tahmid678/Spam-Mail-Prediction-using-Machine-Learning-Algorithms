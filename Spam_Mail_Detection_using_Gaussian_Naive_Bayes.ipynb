{
  "nbformat": 4,
  "nbformat_minor": 0,
  "metadata": {
    "colab": {
      "name": "Spam Mail Detection using Gaussian Naive Bayes.ipynb",
      "provenance": []
    },
    "kernelspec": {
      "name": "python3",
      "display_name": "Python 3"
    },
    "language_info": {
      "name": "python"
    }
  },
  "cells": [
    {
      "cell_type": "markdown",
      "source": [
        "Importing dependencies"
      ],
      "metadata": {
        "id": "697K1tyKIvwH"
      }
    },
    {
      "cell_type": "code",
      "execution_count": 35,
      "metadata": {
        "id": "umVFIwR5IYfP"
      },
      "outputs": [],
      "source": [
        "import numpy as np\n",
        "import pandas as pd\n",
        "from sklearn.model_selection import train_test_split\n",
        "from sklearn.feature_extraction.text import TfidfVectorizer\n",
        "from sklearn.naive_bayes import GaussianNB\n",
        "from sklearn.metrics import accuracy_score,precision_score,confusion_matrix,classification_report,f1_score,recall_score"
      ]
    },
    {
      "cell_type": "markdown",
      "source": [
        "Data Collection and Pre-processing"
      ],
      "metadata": {
        "id": "J0Wzfb7fJHfr"
      }
    },
    {
      "cell_type": "code",
      "source": [
        "raw_data=pd.read_csv('/content/spam_mail_detection_dataset.csv', encoding=\"ISO-8859-1\")"
      ],
      "metadata": {
        "id": "RBwPGRFqJBZM"
      },
      "execution_count": 2,
      "outputs": []
    },
    {
      "cell_type": "code",
      "source": [
        "print(raw_data)"
      ],
      "metadata": {
        "colab": {
          "base_uri": "https://localhost:8080/"
        },
        "id": "2edSI5inJTQm",
        "outputId": "14ea3242-df4b-40c9-8c26-464fd975ab6e"
      },
      "execution_count": 3,
      "outputs": [
        {
          "output_type": "stream",
          "name": "stdout",
          "text": [
            "    Category                                            Message  \\\n",
            "0        ham  Even my brother is not like to speak with me. ...   \n",
            "1       spam  WINNER!! As a valued network customer you have...   \n",
            "2       spam  SIX chances to win CASH! From 100 to 20,000 po...   \n",
            "3       spam  URGENT! You have won a 1 week FREE membership ...   \n",
            "4        ham  I've been searching for the right words to tha...   \n",
            "..       ...                                                ...   \n",
            "294      ham         Im good! I have been thinking about you...   \n",
            "295      ham              Got smaller capacity one? Quite ex...   \n",
            "296      ham  Ummmmmaah Many many happy returns of d day my ...   \n",
            "297     spam  URGENT This is our 2nd attempt to contact U. Y...   \n",
            "298      ham  Saw Guys and Dolls last night with Patrick Swa...   \n",
            "\n",
            "    Senders_Anonimity legitimate_contact_info Appealing_Subject  \n",
            "0                  no                     yes                no  \n",
            "1                 yes                      no               yes  \n",
            "2                 yes                      no               yes  \n",
            "3                 yes                      no               yes  \n",
            "4                  no                     yes                no  \n",
            "..                ...                     ...               ...  \n",
            "294                no                     yes                no  \n",
            "295                no                     yes                no  \n",
            "296                no                     yes                no  \n",
            "297               yes                      no               yes  \n",
            "298                no                     yes                no  \n",
            "\n",
            "[299 rows x 5 columns]\n"
          ]
        }
      ]
    },
    {
      "cell_type": "code",
      "source": [
        "mail_data=raw_data.where((pd.notnull(raw_data)),'')"
      ],
      "metadata": {
        "id": "J39uLqLqJeL0"
      },
      "execution_count": 5,
      "outputs": []
    },
    {
      "cell_type": "code",
      "source": [
        "mail_data.head(15)"
      ],
      "metadata": {
        "colab": {
          "base_uri": "https://localhost:8080/",
          "height": 520
        },
        "id": "QGvIZ5lAJnvm",
        "outputId": "2b659148-a34f-4ad8-841e-ea6d670e52ea"
      },
      "execution_count": 6,
      "outputs": [
        {
          "output_type": "execute_result",
          "data": {
            "text/html": [
              "\n",
              "  <div id=\"df-140b7c12-de2c-41f0-b391-a036923f7970\">\n",
              "    <div class=\"colab-df-container\">\n",
              "      <div>\n",
              "<style scoped>\n",
              "    .dataframe tbody tr th:only-of-type {\n",
              "        vertical-align: middle;\n",
              "    }\n",
              "\n",
              "    .dataframe tbody tr th {\n",
              "        vertical-align: top;\n",
              "    }\n",
              "\n",
              "    .dataframe thead th {\n",
              "        text-align: right;\n",
              "    }\n",
              "</style>\n",
              "<table border=\"1\" class=\"dataframe\">\n",
              "  <thead>\n",
              "    <tr style=\"text-align: right;\">\n",
              "      <th></th>\n",
              "      <th>Category</th>\n",
              "      <th>Message</th>\n",
              "      <th>Senders_Anonimity</th>\n",
              "      <th>legitimate_contact_info</th>\n",
              "      <th>Appealing_Subject</th>\n",
              "    </tr>\n",
              "  </thead>\n",
              "  <tbody>\n",
              "    <tr>\n",
              "      <th>0</th>\n",
              "      <td>ham</td>\n",
              "      <td>Even my brother is not like to speak with me. ...</td>\n",
              "      <td>no</td>\n",
              "      <td>yes</td>\n",
              "      <td>no</td>\n",
              "    </tr>\n",
              "    <tr>\n",
              "      <th>1</th>\n",
              "      <td>spam</td>\n",
              "      <td>WINNER!! As a valued network customer you have...</td>\n",
              "      <td>yes</td>\n",
              "      <td>no</td>\n",
              "      <td>yes</td>\n",
              "    </tr>\n",
              "    <tr>\n",
              "      <th>2</th>\n",
              "      <td>spam</td>\n",
              "      <td>SIX chances to win CASH! From 100 to 20,000 po...</td>\n",
              "      <td>yes</td>\n",
              "      <td>no</td>\n",
              "      <td>yes</td>\n",
              "    </tr>\n",
              "    <tr>\n",
              "      <th>3</th>\n",
              "      <td>spam</td>\n",
              "      <td>URGENT! You have won a 1 week FREE membership ...</td>\n",
              "      <td>yes</td>\n",
              "      <td>no</td>\n",
              "      <td>yes</td>\n",
              "    </tr>\n",
              "    <tr>\n",
              "      <th>4</th>\n",
              "      <td>ham</td>\n",
              "      <td>I've been searching for the right words to tha...</td>\n",
              "      <td>no</td>\n",
              "      <td>yes</td>\n",
              "      <td>no</td>\n",
              "    </tr>\n",
              "    <tr>\n",
              "      <th>5</th>\n",
              "      <td>ham</td>\n",
              "      <td>The guy did some bitching but I acted like i'd...</td>\n",
              "      <td>no</td>\n",
              "      <td>yes</td>\n",
              "      <td>no</td>\n",
              "    </tr>\n",
              "    <tr>\n",
              "      <th>6</th>\n",
              "      <td>ham</td>\n",
              "      <td>Get me out of this dump heap. My mom decided t...</td>\n",
              "      <td>no</td>\n",
              "      <td>yes</td>\n",
              "      <td>no</td>\n",
              "    </tr>\n",
              "    <tr>\n",
              "      <th>7</th>\n",
              "      <td>ham</td>\n",
              "      <td>Cool, what time you think you can get here?</td>\n",
              "      <td>no</td>\n",
              "      <td>yes</td>\n",
              "      <td>no</td>\n",
              "    </tr>\n",
              "    <tr>\n",
              "      <th>8</th>\n",
              "      <td>ham</td>\n",
              "      <td>Hey chief, can you give me a bell when you get...</td>\n",
              "      <td>no</td>\n",
              "      <td>yes</td>\n",
              "      <td>no</td>\n",
              "    </tr>\n",
              "    <tr>\n",
              "      <th>9</th>\n",
              "      <td>spam</td>\n",
              "      <td>England v Macedonia - dont miss the goals/team...</td>\n",
              "      <td>yes</td>\n",
              "      <td>no</td>\n",
              "      <td>yes</td>\n",
              "    </tr>\n",
              "    <tr>\n",
              "      <th>10</th>\n",
              "      <td>ham</td>\n",
              "      <td>Is that seriously how you spell his name?</td>\n",
              "      <td>no</td>\n",
              "      <td>yes</td>\n",
              "      <td>no</td>\n",
              "    </tr>\n",
              "    <tr>\n",
              "      <th>11</th>\n",
              "      <td>ham</td>\n",
              "      <td>IÛ÷m going to try for 2 months ha ha only joking</td>\n",
              "      <td>no</td>\n",
              "      <td>yes</td>\n",
              "      <td>no</td>\n",
              "    </tr>\n",
              "    <tr>\n",
              "      <th>12</th>\n",
              "      <td>ham</td>\n",
              "      <td>So Ì_ pay first lar... Then when is da stock c...</td>\n",
              "      <td>no</td>\n",
              "      <td>yes</td>\n",
              "      <td>no</td>\n",
              "    </tr>\n",
              "    <tr>\n",
              "      <th>13</th>\n",
              "      <td>ham</td>\n",
              "      <td>Aft i finish my lunch then i go str down lor. ...</td>\n",
              "      <td>no</td>\n",
              "      <td>yes</td>\n",
              "      <td>no</td>\n",
              "    </tr>\n",
              "    <tr>\n",
              "      <th>14</th>\n",
              "      <td>ham</td>\n",
              "      <td>Ffffffffff. Alright no way I can meet up with ...</td>\n",
              "      <td>no</td>\n",
              "      <td>yes</td>\n",
              "      <td>no</td>\n",
              "    </tr>\n",
              "  </tbody>\n",
              "</table>\n",
              "</div>\n",
              "      <button class=\"colab-df-convert\" onclick=\"convertToInteractive('df-140b7c12-de2c-41f0-b391-a036923f7970')\"\n",
              "              title=\"Convert this dataframe to an interactive table.\"\n",
              "              style=\"display:none;\">\n",
              "        \n",
              "  <svg xmlns=\"http://www.w3.org/2000/svg\" height=\"24px\"viewBox=\"0 0 24 24\"\n",
              "       width=\"24px\">\n",
              "    <path d=\"M0 0h24v24H0V0z\" fill=\"none\"/>\n",
              "    <path d=\"M18.56 5.44l.94 2.06.94-2.06 2.06-.94-2.06-.94-.94-2.06-.94 2.06-2.06.94zm-11 1L8.5 8.5l.94-2.06 2.06-.94-2.06-.94L8.5 2.5l-.94 2.06-2.06.94zm10 10l.94 2.06.94-2.06 2.06-.94-2.06-.94-.94-2.06-.94 2.06-2.06.94z\"/><path d=\"M17.41 7.96l-1.37-1.37c-.4-.4-.92-.59-1.43-.59-.52 0-1.04.2-1.43.59L10.3 9.45l-7.72 7.72c-.78.78-.78 2.05 0 2.83L4 21.41c.39.39.9.59 1.41.59.51 0 1.02-.2 1.41-.59l7.78-7.78 2.81-2.81c.8-.78.8-2.07 0-2.86zM5.41 20L4 18.59l7.72-7.72 1.47 1.35L5.41 20z\"/>\n",
              "  </svg>\n",
              "      </button>\n",
              "      \n",
              "  <style>\n",
              "    .colab-df-container {\n",
              "      display:flex;\n",
              "      flex-wrap:wrap;\n",
              "      gap: 12px;\n",
              "    }\n",
              "\n",
              "    .colab-df-convert {\n",
              "      background-color: #E8F0FE;\n",
              "      border: none;\n",
              "      border-radius: 50%;\n",
              "      cursor: pointer;\n",
              "      display: none;\n",
              "      fill: #1967D2;\n",
              "      height: 32px;\n",
              "      padding: 0 0 0 0;\n",
              "      width: 32px;\n",
              "    }\n",
              "\n",
              "    .colab-df-convert:hover {\n",
              "      background-color: #E2EBFA;\n",
              "      box-shadow: 0px 1px 2px rgba(60, 64, 67, 0.3), 0px 1px 3px 1px rgba(60, 64, 67, 0.15);\n",
              "      fill: #174EA6;\n",
              "    }\n",
              "\n",
              "    [theme=dark] .colab-df-convert {\n",
              "      background-color: #3B4455;\n",
              "      fill: #D2E3FC;\n",
              "    }\n",
              "\n",
              "    [theme=dark] .colab-df-convert:hover {\n",
              "      background-color: #434B5C;\n",
              "      box-shadow: 0px 1px 3px 1px rgba(0, 0, 0, 0.15);\n",
              "      filter: drop-shadow(0px 1px 2px rgba(0, 0, 0, 0.3));\n",
              "      fill: #FFFFFF;\n",
              "    }\n",
              "  </style>\n",
              "\n",
              "      <script>\n",
              "        const buttonEl =\n",
              "          document.querySelector('#df-140b7c12-de2c-41f0-b391-a036923f7970 button.colab-df-convert');\n",
              "        buttonEl.style.display =\n",
              "          google.colab.kernel.accessAllowed ? 'block' : 'none';\n",
              "\n",
              "        async function convertToInteractive(key) {\n",
              "          const element = document.querySelector('#df-140b7c12-de2c-41f0-b391-a036923f7970');\n",
              "          const dataTable =\n",
              "            await google.colab.kernel.invokeFunction('convertToInteractive',\n",
              "                                                     [key], {});\n",
              "          if (!dataTable) return;\n",
              "\n",
              "          const docLinkHtml = 'Like what you see? Visit the ' +\n",
              "            '<a target=\"_blank\" href=https://colab.research.google.com/notebooks/data_table.ipynb>data table notebook</a>'\n",
              "            + ' to learn more about interactive tables.';\n",
              "          element.innerHTML = '';\n",
              "          dataTable['output_type'] = 'display_data';\n",
              "          await google.colab.output.renderOutput(dataTable, element);\n",
              "          const docLink = document.createElement('div');\n",
              "          docLink.innerHTML = docLinkHtml;\n",
              "          element.appendChild(docLink);\n",
              "        }\n",
              "      </script>\n",
              "    </div>\n",
              "  </div>\n",
              "  "
            ],
            "text/plain": [
              "   Category                                            Message  \\\n",
              "0       ham  Even my brother is not like to speak with me. ...   \n",
              "1      spam  WINNER!! As a valued network customer you have...   \n",
              "2      spam  SIX chances to win CASH! From 100 to 20,000 po...   \n",
              "3      spam  URGENT! You have won a 1 week FREE membership ...   \n",
              "4       ham  I've been searching for the right words to tha...   \n",
              "5       ham  The guy did some bitching but I acted like i'd...   \n",
              "6       ham  Get me out of this dump heap. My mom decided t...   \n",
              "7       ham        Cool, what time you think you can get here?   \n",
              "8       ham  Hey chief, can you give me a bell when you get...   \n",
              "9      spam  England v Macedonia - dont miss the goals/team...   \n",
              "10      ham          Is that seriously how you spell his name?   \n",
              "11      ham  IÛ÷m going to try for 2 months ha ha only joking   \n",
              "12      ham  So Ì_ pay first lar... Then when is da stock c...   \n",
              "13      ham  Aft i finish my lunch then i go str down lor. ...   \n",
              "14      ham  Ffffffffff. Alright no way I can meet up with ...   \n",
              "\n",
              "   Senders_Anonimity legitimate_contact_info Appealing_Subject  \n",
              "0                 no                     yes                no  \n",
              "1                yes                      no               yes  \n",
              "2                yes                      no               yes  \n",
              "3                yes                      no               yes  \n",
              "4                 no                     yes                no  \n",
              "5                 no                     yes                no  \n",
              "6                 no                     yes                no  \n",
              "7                 no                     yes                no  \n",
              "8                 no                     yes                no  \n",
              "9                yes                      no               yes  \n",
              "10                no                     yes                no  \n",
              "11                no                     yes                no  \n",
              "12                no                     yes                no  \n",
              "13                no                     yes                no  \n",
              "14                no                     yes                no  "
            ]
          },
          "metadata": {},
          "execution_count": 6
        }
      ]
    },
    {
      "cell_type": "code",
      "source": [
        "mail_data.shape"
      ],
      "metadata": {
        "colab": {
          "base_uri": "https://localhost:8080/"
        },
        "id": "vg6YfueuJsAL",
        "outputId": "9b7e3660-7474-4d20-d171-e0b1fbfbe7b5"
      },
      "execution_count": 7,
      "outputs": [
        {
          "output_type": "execute_result",
          "data": {
            "text/plain": [
              "(299, 5)"
            ]
          },
          "metadata": {},
          "execution_count": 7
        }
      ]
    },
    {
      "cell_type": "markdown",
      "source": [
        "Label Encoding"
      ],
      "metadata": {
        "id": "KBwM6R7uKRlq"
      }
    },
    {
      "cell_type": "code",
      "source": [
        "#spam as 0 and ham as 1\n",
        "mail_data.loc[mail_data['Category']=='spam', 'Category',]=0\n",
        "mail_data.loc[mail_data['Category']=='ham', 'Category',]=1"
      ],
      "metadata": {
        "id": "1UMreOpNKHCV"
      },
      "execution_count": 10,
      "outputs": []
    },
    {
      "cell_type": "code",
      "source": [
        "#separating the data as texts and label\n",
        "\n",
        "X = mail_data['Message']\n",
        "Y = mail_data['Category']"
      ],
      "metadata": {
        "id": "w1RZC3mrKb4u"
      },
      "execution_count": 11,
      "outputs": []
    },
    {
      "cell_type": "code",
      "source": [
        "print(X)"
      ],
      "metadata": {
        "colab": {
          "base_uri": "https://localhost:8080/"
        },
        "id": "Yu7cWcMAKffd",
        "outputId": "e4b1a3e7-eadd-45de-f620-8bfb6008fbd1"
      },
      "execution_count": 12,
      "outputs": [
        {
          "output_type": "stream",
          "name": "stdout",
          "text": [
            "0      Even my brother is not like to speak with me. ...\n",
            "1      WINNER!! As a valued network customer you have...\n",
            "2      SIX chances to win CASH! From 100 to 20,000 po...\n",
            "3      URGENT! You have won a 1 week FREE membership ...\n",
            "4      I've been searching for the right words to tha...\n",
            "                             ...                        \n",
            "294           Im good! I have been thinking about you...\n",
            "295                Got smaller capacity one? Quite ex...\n",
            "296    Ummmmmaah Many many happy returns of d day my ...\n",
            "297    URGENT This is our 2nd attempt to contact U. Y...\n",
            "298    Saw Guys and Dolls last night with Patrick Swa...\n",
            "Name: Message, Length: 299, dtype: object\n"
          ]
        }
      ]
    },
    {
      "cell_type": "code",
      "source": [
        "print(Y)"
      ],
      "metadata": {
        "colab": {
          "base_uri": "https://localhost:8080/"
        },
        "id": "q0hB7QdvKiNx",
        "outputId": "dc7c7873-870a-4fa1-b77f-4eb8e6247656"
      },
      "execution_count": 13,
      "outputs": [
        {
          "output_type": "stream",
          "name": "stdout",
          "text": [
            "0      1\n",
            "1      0\n",
            "2      0\n",
            "3      0\n",
            "4      1\n",
            "      ..\n",
            "294    1\n",
            "295    1\n",
            "296    1\n",
            "297    0\n",
            "298    1\n",
            "Name: Category, Length: 299, dtype: object\n"
          ]
        }
      ]
    },
    {
      "cell_type": "markdown",
      "source": [
        "Splitting the dataset"
      ],
      "metadata": {
        "id": "nZTu1XpdKnSj"
      }
    },
    {
      "cell_type": "code",
      "source": [
        "X_train, X_test, Y_train, Y_test = train_test_split(X,Y,test_size=0.2,random_state=3)"
      ],
      "metadata": {
        "id": "FVmjSJj6KkPD"
      },
      "execution_count": 14,
      "outputs": []
    },
    {
      "cell_type": "code",
      "source": [
        "print(X.shape)\n",
        "print(X_train.shape)\n",
        "print(X_test.shape)"
      ],
      "metadata": {
        "colab": {
          "base_uri": "https://localhost:8080/"
        },
        "id": "t4tc88ATKsTH",
        "outputId": "23384af8-54e2-4ede-bcd5-1f8bf0e4c61f"
      },
      "execution_count": 15,
      "outputs": [
        {
          "output_type": "stream",
          "name": "stdout",
          "text": [
            "(299,)\n",
            "(239,)\n",
            "(60,)\n"
          ]
        }
      ]
    },
    {
      "cell_type": "markdown",
      "source": [
        "Feature Extraction"
      ],
      "metadata": {
        "id": "jqFKigpzK2ki"
      }
    },
    {
      "cell_type": "code",
      "source": [
        "#transform the text data to feature vectors that can be used as input to the Gaussian Naive Bayes model\n",
        "feature_extraction = TfidfVectorizer(min_df =1, stop_words='english', lowercase='True')\n",
        "X_train_features = feature_extraction.fit_transform(X_train)\n",
        "X_test_features = feature_extraction.transform(X_test)"
      ],
      "metadata": {
        "id": "LO3UQiL7K0ZH"
      },
      "execution_count": 16,
      "outputs": []
    },
    {
      "cell_type": "code",
      "source": [
        "#convert Y_train and Y_test values as integers\n",
        "Y_train = Y_train.astype('int')\n",
        "Y_test = Y_test.astype('int')"
      ],
      "metadata": {
        "id": "EHT-ZytuK9sE"
      },
      "execution_count": 17,
      "outputs": []
    },
    {
      "cell_type": "code",
      "source": [
        "print(X_train_features)"
      ],
      "metadata": {
        "colab": {
          "base_uri": "https://localhost:8080/"
        },
        "id": "mOIb2UVqLCC3",
        "outputId": "39679c9a-13ab-4106-a785-16673a713070"
      },
      "execution_count": 18,
      "outputs": [
        {
          "output_type": "stream",
          "name": "stdout",
          "text": [
            "  (0, 389)\t0.3209413705529753\n",
            "  (0, 658)\t0.3209413705529753\n",
            "  (0, 169)\t0.3209413705529753\n",
            "  (0, 290)\t0.3209413705529753\n",
            "  (0, 361)\t0.3209413705529753\n",
            "  (0, 418)\t0.3209413705529753\n",
            "  (0, 906)\t0.3209413705529753\n",
            "  (0, 135)\t0.3209413705529753\n",
            "  (0, 99)\t0.3209413705529753\n",
            "  (0, 898)\t0.270129098780935\n",
            "  (1, 541)\t0.4216273092509037\n",
            "  (1, 762)\t0.45339139630045266\n",
            "  (1, 849)\t0.3273082268017756\n",
            "  (1, 625)\t0.4216273092509037\n",
            "  (1, 933)\t0.355250098349057\n",
            "  (1, 655)\t0.45339139630045266\n",
            "  (2, 848)\t0.4758215232815622\n",
            "  (2, 601)\t0.40048822326383166\n",
            "  (2, 1015)\t0.40048822326383166\n",
            "  (2, 118)\t0.4758215232815622\n",
            "  (2, 378)\t0.4758215232815622\n",
            "  (3, 939)\t0.539320521108071\n",
            "  (3, 747)\t0.5015363370237031\n",
            "  (3, 649)\t0.4539338947483562\n",
            "  (3, 1051)\t0.5015363370237031\n",
            "  :\t:\n",
            "  (237, 41)\t0.2275828823814379\n",
            "  (237, 15)\t0.2275828823814379\n",
            "  (237, 264)\t0.2275828823814379\n",
            "  (237, 78)\t0.2275828823814379\n",
            "  (237, 822)\t0.4551657647628758\n",
            "  (237, 861)\t0.2275828823814379\n",
            "  (237, 823)\t0.2275828823814379\n",
            "  (237, 46)\t0.2275828823814379\n",
            "  (237, 1037)\t0.21541803822473315\n",
            "  (237, 212)\t0.21541803822473315\n",
            "  (237, 1031)\t0.1917542805569452\n",
            "  (237, 236)\t0.20598225203487247\n",
            "  (237, 1049)\t0.20598225203487247\n",
            "  (237, 975)\t0.3622545369870933\n",
            "  (237, 986)\t0.18112726849354666\n",
            "  (238, 34)\t0.3112117711673014\n",
            "  (238, 56)\t0.3112117711673014\n",
            "  (238, 900)\t0.3112117711673014\n",
            "  (238, 783)\t0.3112117711673014\n",
            "  (238, 194)\t0.28940862741366113\n",
            "  (238, 0)\t0.5478781014669888\n",
            "  (238, 226)\t0.21486318654604705\n",
            "  (238, 726)\t0.25213590697985405\n",
            "  (238, 1038)\t0.24384673643278323\n",
            "  (238, 204)\t0.24384673643278323\n"
          ]
        }
      ]
    },
    {
      "cell_type": "markdown",
      "source": [
        "Training Gaussian Naive Bayes Model"
      ],
      "metadata": {
        "id": "_EZQKnXPLK1K"
      }
    },
    {
      "cell_type": "code",
      "source": [
        "model = GaussianNB()"
      ],
      "metadata": {
        "id": "gd4kqH9ULFKp"
      },
      "execution_count": 19,
      "outputs": []
    },
    {
      "cell_type": "code",
      "source": [
        "X_train_features=X_train_features.toarray()"
      ],
      "metadata": {
        "id": "j0VBQyFpMc1c"
      },
      "execution_count": 22,
      "outputs": []
    },
    {
      "cell_type": "code",
      "source": [
        "model.fit(X_train_features,Y_train)"
      ],
      "metadata": {
        "colab": {
          "base_uri": "https://localhost:8080/"
        },
        "id": "GZDciHCsLU_S",
        "outputId": "efec7fee-0bf7-4500-cb0c-76cc4fbfbf58"
      },
      "execution_count": 24,
      "outputs": [
        {
          "output_type": "execute_result",
          "data": {
            "text/plain": [
              "GaussianNB()"
            ]
          },
          "metadata": {},
          "execution_count": 24
        }
      ]
    },
    {
      "cell_type": "markdown",
      "source": [
        "Evaluating the trained model"
      ],
      "metadata": {
        "id": "OjMHYPYrMuh5"
      }
    },
    {
      "cell_type": "code",
      "source": [
        "#prediction on training data\n",
        "\n",
        "prediction_on_training_data = model.predict(X_train_features)\n",
        "accuracy_on_training_data = accuracy_score(Y_train, prediction_on_training_data)"
      ],
      "metadata": {
        "id": "BlQWBC8nLXf_"
      },
      "execution_count": 25,
      "outputs": []
    },
    {
      "cell_type": "code",
      "source": [
        "print('Accuracy on training data :',accuracy_on_training_data)"
      ],
      "metadata": {
        "colab": {
          "base_uri": "https://localhost:8080/"
        },
        "id": "gMgl_Yb4M0iH",
        "outputId": "b9428803-90fc-40b8-b487-0efc36c3a492"
      },
      "execution_count": 26,
      "outputs": [
        {
          "output_type": "stream",
          "name": "stdout",
          "text": [
            "Accuracy on training data : 0.9832635983263598\n"
          ]
        }
      ]
    },
    {
      "cell_type": "code",
      "source": [
        "X_test_features = X_test_features.toarray()"
      ],
      "metadata": {
        "id": "Yf4K8EMuNFES"
      },
      "execution_count": 28,
      "outputs": []
    },
    {
      "cell_type": "code",
      "source": [
        "#prediction on test data\n",
        "\n",
        "prediction_on_test_data = model.predict(X_test_features)\n",
        "accuracy_on_test_data = accuracy_score(Y_test, prediction_on_test_data)"
      ],
      "metadata": {
        "id": "lj9EFilSM36F"
      },
      "execution_count": 29,
      "outputs": []
    },
    {
      "cell_type": "code",
      "source": [
        "print('Accuracy on test data :',accuracy_on_test_data)"
      ],
      "metadata": {
        "colab": {
          "base_uri": "https://localhost:8080/"
        },
        "id": "lakdpWvpM8J5",
        "outputId": "e26ceab2-2704-49ca-9de4-2853ec6401d2"
      },
      "execution_count": 30,
      "outputs": [
        {
          "output_type": "stream",
          "name": "stdout",
          "text": [
            "Accuracy on test data : 0.8666666666666667\n"
          ]
        }
      ]
    },
    {
      "cell_type": "code",
      "source": [
        "print('Precision: ',precision_score(Y_test,prediction_on_test_data))"
      ],
      "metadata": {
        "colab": {
          "base_uri": "https://localhost:8080/"
        },
        "id": "XeXaZ-BWNOnO",
        "outputId": "2d58cc17-fe17-43a9-bc75-a1817f5664c2"
      },
      "execution_count": 31,
      "outputs": [
        {
          "output_type": "stream",
          "name": "stdout",
          "text": [
            "Precision:  0.9565217391304348\n"
          ]
        }
      ]
    },
    {
      "cell_type": "code",
      "source": [
        "print(classification_report(Y_test,prediction_on_test_data))"
      ],
      "metadata": {
        "colab": {
          "base_uri": "https://localhost:8080/"
        },
        "id": "IUugQvM9NUib",
        "outputId": "742a9165-8a0d-4599-aa50-d6519e3b04b4"
      },
      "execution_count": 32,
      "outputs": [
        {
          "output_type": "stream",
          "name": "stdout",
          "text": [
            "              precision    recall  f1-score   support\n",
            "\n",
            "           0       0.57      0.80      0.67        10\n",
            "           1       0.96      0.88      0.92        50\n",
            "\n",
            "    accuracy                           0.87        60\n",
            "   macro avg       0.76      0.84      0.79        60\n",
            "weighted avg       0.89      0.87      0.87        60\n",
            "\n"
          ]
        }
      ]
    },
    {
      "cell_type": "code",
      "source": [
        "print('f1_score: ',f1_score(Y_test,prediction_on_test_data))"
      ],
      "metadata": {
        "colab": {
          "base_uri": "https://localhost:8080/"
        },
        "id": "i9_hs5gWNYYA",
        "outputId": "5d5b35e9-c03e-47a1-b81b-53d95165cad8"
      },
      "execution_count": 33,
      "outputs": [
        {
          "output_type": "stream",
          "name": "stdout",
          "text": [
            "f1_score:  0.9166666666666666\n"
          ]
        }
      ]
    },
    {
      "cell_type": "code",
      "source": [
        "print('Recall Score: ',recall_score(Y_test,prediction_on_test_data))"
      ],
      "metadata": {
        "colab": {
          "base_uri": "https://localhost:8080/"
        },
        "id": "wxJX8fIlNbaI",
        "outputId": "a42e2133-1572-439e-ce7a-2ef8ee1dc336"
      },
      "execution_count": 36,
      "outputs": [
        {
          "output_type": "stream",
          "name": "stdout",
          "text": [
            "Recall Score:  0.88\n"
          ]
        }
      ]
    },
    {
      "cell_type": "code",
      "source": [
        ""
      ],
      "metadata": {
        "id": "2JBgNs8jNhCF"
      },
      "execution_count": null,
      "outputs": []
    }
  ]
}