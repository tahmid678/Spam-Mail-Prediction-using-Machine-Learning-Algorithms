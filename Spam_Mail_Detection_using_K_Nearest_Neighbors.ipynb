{
  "nbformat": 4,
  "nbformat_minor": 0,
  "metadata": {
    "colab": {
      "name": "Spam Mail Detection using K-Nearest Neighbors.ipynb",
      "provenance": []
    },
    "kernelspec": {
      "name": "python3",
      "display_name": "Python 3"
    },
    "language_info": {
      "name": "python"
    }
  },
  "cells": [
    {
      "cell_type": "markdown",
      "source": [
        "Importing dependencies"
      ],
      "metadata": {
        "id": "uruo11n9jLVW"
      }
    },
    {
      "cell_type": "code",
      "execution_count": 1,
      "metadata": {
        "id": "DAqswAYBjDRv"
      },
      "outputs": [],
      "source": [
        "import numpy as np\n",
        "import pandas as pd\n",
        "from sklearn.model_selection import train_test_split\n",
        "from sklearn.feature_extraction.text import TfidfVectorizer\n",
        "from sklearn.neighbors import KNeighborsClassifier\n",
        "from sklearn.metrics import accuracy_score, classification_report, confusion_matrix,f1_score,precision_score,recall_score"
      ]
    },
    {
      "cell_type": "markdown",
      "source": [
        "Data Pre-processing"
      ],
      "metadata": {
        "id": "AdZfDQTwl3qx"
      }
    },
    {
      "cell_type": "code",
      "source": [
        "raw_mail = pd.read_csv('/content/spam_mail_detection_dataset.csv', encoding=\"ISO-8859-1\")"
      ],
      "metadata": {
        "id": "dMezgU2Nlu1r"
      },
      "execution_count": 2,
      "outputs": []
    },
    {
      "cell_type": "code",
      "source": [
        "print(raw_mail)"
      ],
      "metadata": {
        "colab": {
          "base_uri": "https://localhost:8080/"
        },
        "id": "fO3BgItrmN7f",
        "outputId": "df0f4670-5e15-4ea6-adab-28d80333d023"
      },
      "execution_count": 3,
      "outputs": [
        {
          "output_type": "stream",
          "name": "stdout",
          "text": [
            "    Category                                            Message  \\\n",
            "0        ham  Even my brother is not like to speak with me. ...   \n",
            "1       spam  WINNER!! As a valued network customer you have...   \n",
            "2       spam  SIX chances to win CASH! From 100 to 20,000 po...   \n",
            "3       spam  URGENT! You have won a 1 week FREE membership ...   \n",
            "4        ham  I've been searching for the right words to tha...   \n",
            "..       ...                                                ...   \n",
            "294      ham         Im good! I have been thinking about you...   \n",
            "295      ham              Got smaller capacity one? Quite ex...   \n",
            "296      ham  Ummmmmaah Many many happy returns of d day my ...   \n",
            "297     spam  URGENT This is our 2nd attempt to contact U. Y...   \n",
            "298      ham  Saw Guys and Dolls last night with Patrick Swa...   \n",
            "\n",
            "    Senders_Anonimity legitimate_contact_info Appealing_Subject  \n",
            "0                  no                     yes                no  \n",
            "1                 yes                      no               yes  \n",
            "2                 yes                      no               yes  \n",
            "3                 yes                      no               yes  \n",
            "4                  no                     yes                no  \n",
            "..                ...                     ...               ...  \n",
            "294                no                     yes                no  \n",
            "295                no                     yes                no  \n",
            "296                no                     yes                no  \n",
            "297               yes                      no               yes  \n",
            "298                no                     yes                no  \n",
            "\n",
            "[299 rows x 5 columns]\n"
          ]
        }
      ]
    },
    {
      "cell_type": "code",
      "source": [
        "data = raw_mail.where((pd.notnull(raw_mail)),'')"
      ],
      "metadata": {
        "id": "eCg--89DmRjp"
      },
      "execution_count": 4,
      "outputs": []
    },
    {
      "cell_type": "code",
      "source": [
        "data.head(20)"
      ],
      "metadata": {
        "colab": {
          "base_uri": "https://localhost:8080/",
          "height": 676
        },
        "id": "dJmI95vxmpu9",
        "outputId": "e3c50623-beaf-4457-ffb9-e2051cb7dba3"
      },
      "execution_count": 5,
      "outputs": [
        {
          "output_type": "execute_result",
          "data": {
            "text/html": [
              "\n",
              "  <div id=\"df-60314af5-cc58-4b5c-8d2e-60c725cecc45\">\n",
              "    <div class=\"colab-df-container\">\n",
              "      <div>\n",
              "<style scoped>\n",
              "    .dataframe tbody tr th:only-of-type {\n",
              "        vertical-align: middle;\n",
              "    }\n",
              "\n",
              "    .dataframe tbody tr th {\n",
              "        vertical-align: top;\n",
              "    }\n",
              "\n",
              "    .dataframe thead th {\n",
              "        text-align: right;\n",
              "    }\n",
              "</style>\n",
              "<table border=\"1\" class=\"dataframe\">\n",
              "  <thead>\n",
              "    <tr style=\"text-align: right;\">\n",
              "      <th></th>\n",
              "      <th>Category</th>\n",
              "      <th>Message</th>\n",
              "      <th>Senders_Anonimity</th>\n",
              "      <th>legitimate_contact_info</th>\n",
              "      <th>Appealing_Subject</th>\n",
              "    </tr>\n",
              "  </thead>\n",
              "  <tbody>\n",
              "    <tr>\n",
              "      <th>0</th>\n",
              "      <td>ham</td>\n",
              "      <td>Even my brother is not like to speak with me. ...</td>\n",
              "      <td>no</td>\n",
              "      <td>yes</td>\n",
              "      <td>no</td>\n",
              "    </tr>\n",
              "    <tr>\n",
              "      <th>1</th>\n",
              "      <td>spam</td>\n",
              "      <td>WINNER!! As a valued network customer you have...</td>\n",
              "      <td>yes</td>\n",
              "      <td>no</td>\n",
              "      <td>yes</td>\n",
              "    </tr>\n",
              "    <tr>\n",
              "      <th>2</th>\n",
              "      <td>spam</td>\n",
              "      <td>SIX chances to win CASH! From 100 to 20,000 po...</td>\n",
              "      <td>yes</td>\n",
              "      <td>no</td>\n",
              "      <td>yes</td>\n",
              "    </tr>\n",
              "    <tr>\n",
              "      <th>3</th>\n",
              "      <td>spam</td>\n",
              "      <td>URGENT! You have won a 1 week FREE membership ...</td>\n",
              "      <td>yes</td>\n",
              "      <td>no</td>\n",
              "      <td>yes</td>\n",
              "    </tr>\n",
              "    <tr>\n",
              "      <th>4</th>\n",
              "      <td>ham</td>\n",
              "      <td>I've been searching for the right words to tha...</td>\n",
              "      <td>no</td>\n",
              "      <td>yes</td>\n",
              "      <td>no</td>\n",
              "    </tr>\n",
              "    <tr>\n",
              "      <th>5</th>\n",
              "      <td>ham</td>\n",
              "      <td>The guy did some bitching but I acted like i'd...</td>\n",
              "      <td>no</td>\n",
              "      <td>yes</td>\n",
              "      <td>no</td>\n",
              "    </tr>\n",
              "    <tr>\n",
              "      <th>6</th>\n",
              "      <td>ham</td>\n",
              "      <td>Get me out of this dump heap. My mom decided t...</td>\n",
              "      <td>no</td>\n",
              "      <td>yes</td>\n",
              "      <td>no</td>\n",
              "    </tr>\n",
              "    <tr>\n",
              "      <th>7</th>\n",
              "      <td>ham</td>\n",
              "      <td>Cool, what time you think you can get here?</td>\n",
              "      <td>no</td>\n",
              "      <td>yes</td>\n",
              "      <td>no</td>\n",
              "    </tr>\n",
              "    <tr>\n",
              "      <th>8</th>\n",
              "      <td>ham</td>\n",
              "      <td>Hey chief, can you give me a bell when you get...</td>\n",
              "      <td>no</td>\n",
              "      <td>yes</td>\n",
              "      <td>no</td>\n",
              "    </tr>\n",
              "    <tr>\n",
              "      <th>9</th>\n",
              "      <td>spam</td>\n",
              "      <td>England v Macedonia - dont miss the goals/team...</td>\n",
              "      <td>yes</td>\n",
              "      <td>no</td>\n",
              "      <td>yes</td>\n",
              "    </tr>\n",
              "    <tr>\n",
              "      <th>10</th>\n",
              "      <td>ham</td>\n",
              "      <td>Is that seriously how you spell his name?</td>\n",
              "      <td>no</td>\n",
              "      <td>yes</td>\n",
              "      <td>no</td>\n",
              "    </tr>\n",
              "    <tr>\n",
              "      <th>11</th>\n",
              "      <td>ham</td>\n",
              "      <td>IÛ÷m going to try for 2 months ha ha only joking</td>\n",
              "      <td>no</td>\n",
              "      <td>yes</td>\n",
              "      <td>no</td>\n",
              "    </tr>\n",
              "    <tr>\n",
              "      <th>12</th>\n",
              "      <td>ham</td>\n",
              "      <td>So Ì_ pay first lar... Then when is da stock c...</td>\n",
              "      <td>no</td>\n",
              "      <td>yes</td>\n",
              "      <td>no</td>\n",
              "    </tr>\n",
              "    <tr>\n",
              "      <th>13</th>\n",
              "      <td>ham</td>\n",
              "      <td>Aft i finish my lunch then i go str down lor. ...</td>\n",
              "      <td>no</td>\n",
              "      <td>yes</td>\n",
              "      <td>no</td>\n",
              "    </tr>\n",
              "    <tr>\n",
              "      <th>14</th>\n",
              "      <td>ham</td>\n",
              "      <td>Ffffffffff. Alright no way I can meet up with ...</td>\n",
              "      <td>no</td>\n",
              "      <td>yes</td>\n",
              "      <td>no</td>\n",
              "    </tr>\n",
              "    <tr>\n",
              "      <th>15</th>\n",
              "      <td>ham</td>\n",
              "      <td>Just forced myself to eat a slice. I'm really ...</td>\n",
              "      <td>no</td>\n",
              "      <td>yes</td>\n",
              "      <td>no</td>\n",
              "    </tr>\n",
              "    <tr>\n",
              "      <th>16</th>\n",
              "      <td>ham</td>\n",
              "      <td>Lol your always so convincing.</td>\n",
              "      <td>no</td>\n",
              "      <td>yes</td>\n",
              "      <td>no</td>\n",
              "    </tr>\n",
              "    <tr>\n",
              "      <th>17</th>\n",
              "      <td>ham</td>\n",
              "      <td>Did you catch the bus ? Are you frying an egg ...</td>\n",
              "      <td>no</td>\n",
              "      <td>yes</td>\n",
              "      <td>no</td>\n",
              "    </tr>\n",
              "    <tr>\n",
              "      <th>18</th>\n",
              "      <td>ham</td>\n",
              "      <td>I'm back &amp;amp; we're packing the car now, I'll...</td>\n",
              "      <td>no</td>\n",
              "      <td>yes</td>\n",
              "      <td>no</td>\n",
              "    </tr>\n",
              "    <tr>\n",
              "      <th>19</th>\n",
              "      <td>ham</td>\n",
              "      <td>Ahhh. Work. I vaguely remember that! What does...</td>\n",
              "      <td>no</td>\n",
              "      <td>yes</td>\n",
              "      <td>no</td>\n",
              "    </tr>\n",
              "  </tbody>\n",
              "</table>\n",
              "</div>\n",
              "      <button class=\"colab-df-convert\" onclick=\"convertToInteractive('df-60314af5-cc58-4b5c-8d2e-60c725cecc45')\"\n",
              "              title=\"Convert this dataframe to an interactive table.\"\n",
              "              style=\"display:none;\">\n",
              "        \n",
              "  <svg xmlns=\"http://www.w3.org/2000/svg\" height=\"24px\"viewBox=\"0 0 24 24\"\n",
              "       width=\"24px\">\n",
              "    <path d=\"M0 0h24v24H0V0z\" fill=\"none\"/>\n",
              "    <path d=\"M18.56 5.44l.94 2.06.94-2.06 2.06-.94-2.06-.94-.94-2.06-.94 2.06-2.06.94zm-11 1L8.5 8.5l.94-2.06 2.06-.94-2.06-.94L8.5 2.5l-.94 2.06-2.06.94zm10 10l.94 2.06.94-2.06 2.06-.94-2.06-.94-.94-2.06-.94 2.06-2.06.94z\"/><path d=\"M17.41 7.96l-1.37-1.37c-.4-.4-.92-.59-1.43-.59-.52 0-1.04.2-1.43.59L10.3 9.45l-7.72 7.72c-.78.78-.78 2.05 0 2.83L4 21.41c.39.39.9.59 1.41.59.51 0 1.02-.2 1.41-.59l7.78-7.78 2.81-2.81c.8-.78.8-2.07 0-2.86zM5.41 20L4 18.59l7.72-7.72 1.47 1.35L5.41 20z\"/>\n",
              "  </svg>\n",
              "      </button>\n",
              "      \n",
              "  <style>\n",
              "    .colab-df-container {\n",
              "      display:flex;\n",
              "      flex-wrap:wrap;\n",
              "      gap: 12px;\n",
              "    }\n",
              "\n",
              "    .colab-df-convert {\n",
              "      background-color: #E8F0FE;\n",
              "      border: none;\n",
              "      border-radius: 50%;\n",
              "      cursor: pointer;\n",
              "      display: none;\n",
              "      fill: #1967D2;\n",
              "      height: 32px;\n",
              "      padding: 0 0 0 0;\n",
              "      width: 32px;\n",
              "    }\n",
              "\n",
              "    .colab-df-convert:hover {\n",
              "      background-color: #E2EBFA;\n",
              "      box-shadow: 0px 1px 2px rgba(60, 64, 67, 0.3), 0px 1px 3px 1px rgba(60, 64, 67, 0.15);\n",
              "      fill: #174EA6;\n",
              "    }\n",
              "\n",
              "    [theme=dark] .colab-df-convert {\n",
              "      background-color: #3B4455;\n",
              "      fill: #D2E3FC;\n",
              "    }\n",
              "\n",
              "    [theme=dark] .colab-df-convert:hover {\n",
              "      background-color: #434B5C;\n",
              "      box-shadow: 0px 1px 3px 1px rgba(0, 0, 0, 0.15);\n",
              "      filter: drop-shadow(0px 1px 2px rgba(0, 0, 0, 0.3));\n",
              "      fill: #FFFFFF;\n",
              "    }\n",
              "  </style>\n",
              "\n",
              "      <script>\n",
              "        const buttonEl =\n",
              "          document.querySelector('#df-60314af5-cc58-4b5c-8d2e-60c725cecc45 button.colab-df-convert');\n",
              "        buttonEl.style.display =\n",
              "          google.colab.kernel.accessAllowed ? 'block' : 'none';\n",
              "\n",
              "        async function convertToInteractive(key) {\n",
              "          const element = document.querySelector('#df-60314af5-cc58-4b5c-8d2e-60c725cecc45');\n",
              "          const dataTable =\n",
              "            await google.colab.kernel.invokeFunction('convertToInteractive',\n",
              "                                                     [key], {});\n",
              "          if (!dataTable) return;\n",
              "\n",
              "          const docLinkHtml = 'Like what you see? Visit the ' +\n",
              "            '<a target=\"_blank\" href=https://colab.research.google.com/notebooks/data_table.ipynb>data table notebook</a>'\n",
              "            + ' to learn more about interactive tables.';\n",
              "          element.innerHTML = '';\n",
              "          dataTable['output_type'] = 'display_data';\n",
              "          await google.colab.output.renderOutput(dataTable, element);\n",
              "          const docLink = document.createElement('div');\n",
              "          docLink.innerHTML = docLinkHtml;\n",
              "          element.appendChild(docLink);\n",
              "        }\n",
              "      </script>\n",
              "    </div>\n",
              "  </div>\n",
              "  "
            ],
            "text/plain": [
              "   Category                                            Message  \\\n",
              "0       ham  Even my brother is not like to speak with me. ...   \n",
              "1      spam  WINNER!! As a valued network customer you have...   \n",
              "2      spam  SIX chances to win CASH! From 100 to 20,000 po...   \n",
              "3      spam  URGENT! You have won a 1 week FREE membership ...   \n",
              "4       ham  I've been searching for the right words to tha...   \n",
              "5       ham  The guy did some bitching but I acted like i'd...   \n",
              "6       ham  Get me out of this dump heap. My mom decided t...   \n",
              "7       ham        Cool, what time you think you can get here?   \n",
              "8       ham  Hey chief, can you give me a bell when you get...   \n",
              "9      spam  England v Macedonia - dont miss the goals/team...   \n",
              "10      ham          Is that seriously how you spell his name?   \n",
              "11      ham  IÛ÷m going to try for 2 months ha ha only joking   \n",
              "12      ham  So Ì_ pay first lar... Then when is da stock c...   \n",
              "13      ham  Aft i finish my lunch then i go str down lor. ...   \n",
              "14      ham  Ffffffffff. Alright no way I can meet up with ...   \n",
              "15      ham  Just forced myself to eat a slice. I'm really ...   \n",
              "16      ham                     Lol your always so convincing.   \n",
              "17      ham  Did you catch the bus ? Are you frying an egg ...   \n",
              "18      ham  I'm back &amp; we're packing the car now, I'll...   \n",
              "19      ham  Ahhh. Work. I vaguely remember that! What does...   \n",
              "\n",
              "   Senders_Anonimity legitimate_contact_info Appealing_Subject  \n",
              "0                 no                     yes                no  \n",
              "1                yes                      no               yes  \n",
              "2                yes                      no               yes  \n",
              "3                yes                      no               yes  \n",
              "4                 no                     yes                no  \n",
              "5                 no                     yes                no  \n",
              "6                 no                     yes                no  \n",
              "7                 no                     yes                no  \n",
              "8                 no                     yes                no  \n",
              "9                yes                      no               yes  \n",
              "10                no                     yes                no  \n",
              "11                no                     yes                no  \n",
              "12                no                     yes                no  \n",
              "13                no                     yes                no  \n",
              "14                no                     yes                no  \n",
              "15                no                     yes                no  \n",
              "16                no                     yes                no  \n",
              "17                no                     yes                no  \n",
              "18                no                     yes                no  \n",
              "19                no                     yes                no  "
            ]
          },
          "metadata": {},
          "execution_count": 5
        }
      ]
    },
    {
      "cell_type": "code",
      "source": [
        "data.shape"
      ],
      "metadata": {
        "colab": {
          "base_uri": "https://localhost:8080/"
        },
        "id": "YkPYTsIqmvs_",
        "outputId": "8186d440-ac2c-4251-c09e-ba1b0ec59e36"
      },
      "execution_count": 6,
      "outputs": [
        {
          "output_type": "execute_result",
          "data": {
            "text/plain": [
              "(299, 5)"
            ]
          },
          "metadata": {},
          "execution_count": 6
        }
      ]
    },
    {
      "cell_type": "markdown",
      "source": [
        "Label Encoding"
      ],
      "metadata": {
        "id": "E_pdEXtJm_Uo"
      }
    },
    {
      "cell_type": "code",
      "source": [
        "data.loc[data['Category']=='spam','Category',]=0\n",
        "data.loc[data['Category']=='ham','Category',]=1"
      ],
      "metadata": {
        "id": "F5aqoqkPm3iB"
      },
      "execution_count": 7,
      "outputs": []
    },
    {
      "cell_type": "code",
      "source": [
        "X=data['Message']\n",
        "Y=data['Category']"
      ],
      "metadata": {
        "id": "-PkgBPDznlUi"
      },
      "execution_count": 8,
      "outputs": []
    },
    {
      "cell_type": "code",
      "source": [
        "print(X)\n",
        "print(Y)"
      ],
      "metadata": {
        "colab": {
          "base_uri": "https://localhost:8080/"
        },
        "id": "WwlGUO6SntUp",
        "outputId": "9d4e6aa3-64b2-4d6a-aba1-800382d06b17"
      },
      "execution_count": 9,
      "outputs": [
        {
          "output_type": "stream",
          "name": "stdout",
          "text": [
            "0      Even my brother is not like to speak with me. ...\n",
            "1      WINNER!! As a valued network customer you have...\n",
            "2      SIX chances to win CASH! From 100 to 20,000 po...\n",
            "3      URGENT! You have won a 1 week FREE membership ...\n",
            "4      I've been searching for the right words to tha...\n",
            "                             ...                        \n",
            "294           Im good! I have been thinking about you...\n",
            "295                Got smaller capacity one? Quite ex...\n",
            "296    Ummmmmaah Many many happy returns of d day my ...\n",
            "297    URGENT This is our 2nd attempt to contact U. Y...\n",
            "298    Saw Guys and Dolls last night with Patrick Swa...\n",
            "Name: Message, Length: 299, dtype: object\n",
            "0      1\n",
            "1      0\n",
            "2      0\n",
            "3      0\n",
            "4      1\n",
            "      ..\n",
            "294    1\n",
            "295    1\n",
            "296    1\n",
            "297    0\n",
            "298    1\n",
            "Name: Category, Length: 299, dtype: object\n"
          ]
        }
      ]
    },
    {
      "cell_type": "markdown",
      "source": [
        "Splitting the dataset"
      ],
      "metadata": {
        "id": "lGW9HcACn4nM"
      }
    },
    {
      "cell_type": "code",
      "source": [
        "X_train,X_test,Y_train,Y_test=train_test_split(X,Y,test_size=0.2,random_state=3)"
      ],
      "metadata": {
        "id": "8Af5qt-An0lf"
      },
      "execution_count": 10,
      "outputs": []
    },
    {
      "cell_type": "code",
      "source": [
        "print(X.shape)\n",
        "print(X_train.shape)\n",
        "print(X_test.shape)"
      ],
      "metadata": {
        "colab": {
          "base_uri": "https://localhost:8080/"
        },
        "id": "KAQuGqGfoTFY",
        "outputId": "6c004b43-0228-4e08-bd8d-c32e693b692d"
      },
      "execution_count": 11,
      "outputs": [
        {
          "output_type": "stream",
          "name": "stdout",
          "text": [
            "(299,)\n",
            "(239,)\n",
            "(60,)\n"
          ]
        }
      ]
    },
    {
      "cell_type": "code",
      "source": [
        "print(Y.shape)\n",
        "print(Y_train.shape)\n",
        "print(Y_test.shape)"
      ],
      "metadata": {
        "colab": {
          "base_uri": "https://localhost:8080/"
        },
        "id": "sLexp-8Uokks",
        "outputId": "a8001408-6442-4061-ab80-a3333a601345"
      },
      "execution_count": 12,
      "outputs": [
        {
          "output_type": "stream",
          "name": "stdout",
          "text": [
            "(299,)\n",
            "(239,)\n",
            "(60,)\n"
          ]
        }
      ]
    },
    {
      "cell_type": "markdown",
      "source": [
        "Feature Extraction"
      ],
      "metadata": {
        "id": "keo49MRwo8qO"
      }
    },
    {
      "cell_type": "code",
      "source": [
        "feature_extraction = TfidfVectorizer(min_df=1, stop_words='english',lowercase='True')\n",
        "X_train_features = feature_extraction.fit_transform(X_train)\n",
        "X_test_features = feature_extraction.transform(X_test)"
      ],
      "metadata": {
        "id": "AAHw1TT8osrR"
      },
      "execution_count": 13,
      "outputs": []
    },
    {
      "cell_type": "code",
      "source": [
        "Y_train = Y_train.astype('int')\n",
        "Y_test = Y_test.astype('int')"
      ],
      "metadata": {
        "id": "upcZVMqBpyKx"
      },
      "execution_count": 14,
      "outputs": []
    },
    {
      "cell_type": "code",
      "source": [
        "print(X_train)"
      ],
      "metadata": {
        "colab": {
          "base_uri": "https://localhost:8080/"
        },
        "id": "edlcZ1jdp-qU",
        "outputId": "343ba82b-bd00-4d5b-8412-fce1c3be8072"
      },
      "execution_count": 15,
      "outputs": [
        {
          "output_type": "stream",
          "name": "stdout",
          "text": [
            "77     Sure, if I get an acknowledgement from you tha...\n",
            "58     Nope... Think i will go for it on monday... So...\n",
            "14     Ffffffffff. Alright no way I can meet up with ...\n",
            "146                Ya very nice. . .be ready on thursday\n",
            "181                       ÌÏ log off 4 wat. It's sdryb8i\n",
            "                             ...                        \n",
            "277                                            Yup ok...\n",
            "256    idc get over here, you are not weaseling your ...\n",
            "131    Yup i thk they r e teacher said that will make...\n",
            "249    For ur chance to win a å£250 wkly shopping spr...\n",
            "152    You have won ?1,000 cash or a ?2,000 prize! To...\n",
            "Name: Message, Length: 239, dtype: object\n"
          ]
        }
      ]
    },
    {
      "cell_type": "code",
      "source": [
        "print(X_train_features)"
      ],
      "metadata": {
        "colab": {
          "base_uri": "https://localhost:8080/"
        },
        "id": "4lAM5nN6qDmf",
        "outputId": "0d7884f9-e7ca-484d-e492-80dd033e96ec"
      },
      "execution_count": 16,
      "outputs": [
        {
          "output_type": "stream",
          "name": "stdout",
          "text": [
            "  (0, 389)\t0.3209413705529753\n",
            "  (0, 658)\t0.3209413705529753\n",
            "  (0, 169)\t0.3209413705529753\n",
            "  (0, 290)\t0.3209413705529753\n",
            "  (0, 361)\t0.3209413705529753\n",
            "  (0, 418)\t0.3209413705529753\n",
            "  (0, 906)\t0.3209413705529753\n",
            "  (0, 135)\t0.3209413705529753\n",
            "  (0, 99)\t0.3209413705529753\n",
            "  (0, 898)\t0.270129098780935\n",
            "  (1, 541)\t0.4216273092509037\n",
            "  (1, 762)\t0.45339139630045266\n",
            "  (1, 849)\t0.3273082268017756\n",
            "  (1, 625)\t0.4216273092509037\n",
            "  (1, 933)\t0.355250098349057\n",
            "  (1, 655)\t0.45339139630045266\n",
            "  (2, 848)\t0.4758215232815622\n",
            "  (2, 601)\t0.40048822326383166\n",
            "  (2, 1015)\t0.40048822326383166\n",
            "  (2, 118)\t0.4758215232815622\n",
            "  (2, 378)\t0.4758215232815622\n",
            "  (3, 939)\t0.539320521108071\n",
            "  (3, 747)\t0.5015363370237031\n",
            "  (3, 649)\t0.4539338947483562\n",
            "  (3, 1051)\t0.5015363370237031\n",
            "  :\t:\n",
            "  (237, 41)\t0.2275828823814379\n",
            "  (237, 15)\t0.2275828823814379\n",
            "  (237, 264)\t0.2275828823814379\n",
            "  (237, 78)\t0.2275828823814379\n",
            "  (237, 822)\t0.4551657647628758\n",
            "  (237, 861)\t0.2275828823814379\n",
            "  (237, 823)\t0.2275828823814379\n",
            "  (237, 46)\t0.2275828823814379\n",
            "  (237, 1037)\t0.21541803822473315\n",
            "  (237, 212)\t0.21541803822473315\n",
            "  (237, 1031)\t0.1917542805569452\n",
            "  (237, 236)\t0.20598225203487247\n",
            "  (237, 1049)\t0.20598225203487247\n",
            "  (237, 975)\t0.3622545369870933\n",
            "  (237, 986)\t0.18112726849354666\n",
            "  (238, 34)\t0.3112117711673014\n",
            "  (238, 56)\t0.3112117711673014\n",
            "  (238, 900)\t0.3112117711673014\n",
            "  (238, 783)\t0.3112117711673014\n",
            "  (238, 194)\t0.28940862741366113\n",
            "  (238, 0)\t0.5478781014669888\n",
            "  (238, 226)\t0.21486318654604705\n",
            "  (238, 726)\t0.25213590697985405\n",
            "  (238, 1038)\t0.24384673643278323\n",
            "  (238, 204)\t0.24384673643278323\n"
          ]
        }
      ]
    },
    {
      "cell_type": "code",
      "source": [
        "print(Y_train)"
      ],
      "metadata": {
        "colab": {
          "base_uri": "https://localhost:8080/"
        },
        "id": "lD_sOgY1qHe3",
        "outputId": "dda64932-c7df-4b71-d039-ab64ee31e204"
      },
      "execution_count": 17,
      "outputs": [
        {
          "output_type": "stream",
          "name": "stdout",
          "text": [
            "77     1\n",
            "58     1\n",
            "14     1\n",
            "146    1\n",
            "181    1\n",
            "      ..\n",
            "277    1\n",
            "256    1\n",
            "131    1\n",
            "249    0\n",
            "152    0\n",
            "Name: Category, Length: 239, dtype: int64\n"
          ]
        }
      ]
    },
    {
      "cell_type": "code",
      "source": [
        "print(Y_test)"
      ],
      "metadata": {
        "colab": {
          "base_uri": "https://localhost:8080/"
        },
        "id": "Y9A2-n7RqK6x",
        "outputId": "b34bf448-82d8-4e33-8e70-915a01b4538e"
      },
      "execution_count": 18,
      "outputs": [
        {
          "output_type": "stream",
          "name": "stdout",
          "text": [
            "84     1\n",
            "217    0\n",
            "211    1\n",
            "285    0\n",
            "31     1\n",
            "134    1\n",
            "201    1\n",
            "247    1\n",
            "16     1\n",
            "177    1\n",
            "25     1\n",
            "109    1\n",
            "241    1\n",
            "83     1\n",
            "67     1\n",
            "115    0\n",
            "263    0\n",
            "227    1\n",
            "154    1\n",
            "61     1\n",
            "65     1\n",
            "228    1\n",
            "196    1\n",
            "118    1\n",
            "163    1\n",
            "215    1\n",
            "78     1\n",
            "103    0\n",
            "213    1\n",
            "5      1\n",
            "295    1\n",
            "200    1\n",
            "102    1\n",
            "38     1\n",
            "225    0\n",
            "283    0\n",
            "180    1\n",
            "240    1\n",
            "166    1\n",
            "126    1\n",
            "142    1\n",
            "108    1\n",
            "296    1\n",
            "203    1\n",
            "132    0\n",
            "130    1\n",
            "47     1\n",
            "6      1\n",
            "127    1\n",
            "250    1\n",
            "66     1\n",
            "74     1\n",
            "82     1\n",
            "210    1\n",
            "70     0\n",
            "46     1\n",
            "153    1\n",
            "37     1\n",
            "3      0\n",
            "73     1\n",
            "Name: Category, dtype: int64\n"
          ]
        }
      ]
    },
    {
      "cell_type": "markdown",
      "source": [
        "Training the model"
      ],
      "metadata": {
        "id": "aHFKoGpmqc5H"
      }
    },
    {
      "cell_type": "code",
      "source": [
        "KNN=KNeighborsClassifier()\n",
        "KNN.fit(X_train_features,Y_train)"
      ],
      "metadata": {
        "colab": {
          "base_uri": "https://localhost:8080/"
        },
        "id": "eWvOreGHqS7Z",
        "outputId": "d7a5ed30-7bab-450e-b0d1-62591fe13a39"
      },
      "execution_count": 19,
      "outputs": [
        {
          "output_type": "execute_result",
          "data": {
            "text/plain": [
              "KNeighborsClassifier()"
            ]
          },
          "metadata": {},
          "execution_count": 19
        }
      ]
    },
    {
      "cell_type": "markdown",
      "source": [
        "Evaluation"
      ],
      "metadata": {
        "id": "48DKKTEzrZ6Q"
      }
    },
    {
      "cell_type": "code",
      "source": [
        "prediction_on_training_data = KNN.predict(X_train_features)\n",
        "accuracy_on_training_data = accuracy_score(Y_train,prediction_on_training_data)"
      ],
      "metadata": {
        "id": "JtUHb3ghrNP5"
      },
      "execution_count": 20,
      "outputs": []
    },
    {
      "cell_type": "code",
      "source": [
        "print(\"Accuracy on training data: \",accuracy_on_training_data)"
      ],
      "metadata": {
        "colab": {
          "base_uri": "https://localhost:8080/"
        },
        "id": "RWt3Pp_ir2X9",
        "outputId": "51c0e1b1-f84f-4b6f-a07e-b3acc06e98ab"
      },
      "execution_count": 21,
      "outputs": [
        {
          "output_type": "stream",
          "name": "stdout",
          "text": [
            "Accuracy on training data:  0.9497907949790795\n"
          ]
        }
      ]
    },
    {
      "cell_type": "code",
      "source": [
        "prediction_on_test_data = KNN.predict(X_test_features)\n",
        "accuracy_on_test_data = accuracy_score(Y_test,prediction_on_test_data)"
      ],
      "metadata": {
        "id": "EdGpkuUAr_fW"
      },
      "execution_count": 22,
      "outputs": []
    },
    {
      "cell_type": "code",
      "source": [
        "print(\"Accuracy on test data: \",accuracy_on_test_data)"
      ],
      "metadata": {
        "colab": {
          "base_uri": "https://localhost:8080/"
        },
        "id": "nXfBRGluscco",
        "outputId": "b6a0df13-6e02-43fa-d1dc-dd2705f8712b"
      },
      "execution_count": 23,
      "outputs": [
        {
          "output_type": "stream",
          "name": "stdout",
          "text": [
            "Accuracy on test data:  0.9333333333333333\n"
          ]
        }
      ]
    },
    {
      "cell_type": "code",
      "source": [
        "print(classification_report(Y_test,prediction_on_test_data))"
      ],
      "metadata": {
        "colab": {
          "base_uri": "https://localhost:8080/"
        },
        "id": "Dq6i9rRhsmpR",
        "outputId": "fa5af7f4-2029-450d-bdd5-f36c8f9f6522"
      },
      "execution_count": 24,
      "outputs": [
        {
          "output_type": "stream",
          "name": "stdout",
          "text": [
            "              precision    recall  f1-score   support\n",
            "\n",
            "           0       1.00      0.60      0.75        10\n",
            "           1       0.93      1.00      0.96        50\n",
            "\n",
            "    accuracy                           0.93        60\n",
            "   macro avg       0.96      0.80      0.86        60\n",
            "weighted avg       0.94      0.93      0.93        60\n",
            "\n"
          ]
        }
      ]
    },
    {
      "cell_type": "code",
      "source": [
        "print(\"Precision: \",precision_score(Y_test,prediction_on_test_data))"
      ],
      "metadata": {
        "id": "Jc95xwi_tqP-",
        "colab": {
          "base_uri": "https://localhost:8080/"
        },
        "outputId": "2c34d30c-2ea8-49e4-ca15-9bdbad207d06"
      },
      "execution_count": 25,
      "outputs": [
        {
          "output_type": "stream",
          "name": "stdout",
          "text": [
            "Precision:  0.9259259259259259\n"
          ]
        }
      ]
    },
    {
      "cell_type": "code",
      "source": [
        "print(\"F1 Score: \",f1_score(Y_test,prediction_on_test_data))"
      ],
      "metadata": {
        "colab": {
          "base_uri": "https://localhost:8080/"
        },
        "id": "uMOce60hHBl-",
        "outputId": "8c29fb3a-8314-4564-95d6-9fbd53080321"
      },
      "execution_count": 26,
      "outputs": [
        {
          "output_type": "stream",
          "name": "stdout",
          "text": [
            "F1 Score:  0.9615384615384615\n"
          ]
        }
      ]
    },
    {
      "cell_type": "code",
      "source": [
        "print(\"Recall Score: \",recall_score(Y_test,prediction_on_test_data))"
      ],
      "metadata": {
        "colab": {
          "base_uri": "https://localhost:8080/"
        },
        "id": "UYaXVkPeHPZ8",
        "outputId": "c0a41fb6-3ce3-499f-e298-91404224d755"
      },
      "execution_count": 27,
      "outputs": [
        {
          "output_type": "stream",
          "name": "stdout",
          "text": [
            "Recall Score:  1.0\n"
          ]
        }
      ]
    },
    {
      "cell_type": "code",
      "source": [
        ""
      ],
      "metadata": {
        "id": "IsNlpJg7HlK0"
      },
      "execution_count": null,
      "outputs": []
    }
  ]
}