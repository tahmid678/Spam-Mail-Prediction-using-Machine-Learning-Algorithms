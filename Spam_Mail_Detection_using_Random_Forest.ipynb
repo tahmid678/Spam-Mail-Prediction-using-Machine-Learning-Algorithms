{
  "nbformat": 4,
  "nbformat_minor": 0,
  "metadata": {
    "colab": {
      "name": "Spam Mail Detection using Random Forest.ipynb",
      "provenance": []
    },
    "kernelspec": {
      "name": "python3",
      "display_name": "Python 3"
    },
    "language_info": {
      "name": "python"
    }
  },
  "cells": [
    {
      "cell_type": "markdown",
      "source": [
        "Importing dependencies"
      ],
      "metadata": {
        "id": "BZuMfTW4uqN2"
      }
    },
    {
      "cell_type": "code",
      "execution_count": 4,
      "metadata": {
        "id": "8UL9HzQvudL-"
      },
      "outputs": [],
      "source": [
        "import numpy as np\n",
        "import pandas as pd\n",
        "from sklearn.model_selection import train_test_split\n",
        "from sklearn.feature_extraction.text import TfidfVectorizer\n",
        "from sklearn.ensemble import RandomForestClassifier\n",
        "from sklearn.metrics import accuracy_score,precision_score,f1_score,recall_score,classification_report"
      ]
    },
    {
      "cell_type": "markdown",
      "source": [
        "Data Collection and Pre-processing"
      ],
      "metadata": {
        "id": "e1eaioEcviFE"
      }
    },
    {
      "cell_type": "code",
      "source": [
        "#loading data from csv file into pandas dataframe\n",
        "data = pd.read_csv('/content/spam_mail_detection_dataset.csv', encoding=\"ISO-8859-1\")"
      ],
      "metadata": {
        "id": "SgMdRmbDvTEu"
      },
      "execution_count": 5,
      "outputs": []
    },
    {
      "cell_type": "code",
      "source": [
        "#printing the raw data\n",
        "print(data)"
      ],
      "metadata": {
        "colab": {
          "base_uri": "https://localhost:8080/"
        },
        "id": "vgOHZvB5v7sp",
        "outputId": "e40da2af-661f-4767-d56e-43b5bf64619a"
      },
      "execution_count": 6,
      "outputs": [
        {
          "output_type": "stream",
          "name": "stdout",
          "text": [
            "    Category                                            Message  \\\n",
            "0        ham  Even my brother is not like to speak with me. ...   \n",
            "1       spam  WINNER!! As a valued network customer you have...   \n",
            "2       spam  SIX chances to win CASH! From 100 to 20,000 po...   \n",
            "3       spam  URGENT! You have won a 1 week FREE membership ...   \n",
            "4        ham  I've been searching for the right words to tha...   \n",
            "..       ...                                                ...   \n",
            "294      ham         Im good! I have been thinking about you...   \n",
            "295      ham              Got smaller capacity one? Quite ex...   \n",
            "296      ham  Ummmmmaah Many many happy returns of d day my ...   \n",
            "297     spam  URGENT This is our 2nd attempt to contact U. Y...   \n",
            "298      ham  Saw Guys and Dolls last night with Patrick Swa...   \n",
            "\n",
            "    Senders_Anonimity legitimate_contact_info Appealing_Subject  \n",
            "0                  no                     yes                no  \n",
            "1                 yes                      no               yes  \n",
            "2                 yes                      no               yes  \n",
            "3                 yes                      no               yes  \n",
            "4                  no                     yes                no  \n",
            "..                ...                     ...               ...  \n",
            "294                no                     yes                no  \n",
            "295                no                     yes                no  \n",
            "296                no                     yes                no  \n",
            "297               yes                      no               yes  \n",
            "298                no                     yes                no  \n",
            "\n",
            "[299 rows x 5 columns]\n"
          ]
        }
      ]
    },
    {
      "cell_type": "code",
      "source": [
        "#replace the null values with null string\n",
        "mail_data = data.where((pd.notnull(data)),'')"
      ],
      "metadata": {
        "id": "Ei0kcQZgwDnc"
      },
      "execution_count": 7,
      "outputs": []
    },
    {
      "cell_type": "code",
      "source": [
        "#printing the first 15 rows of the data\n",
        "mail_data.head(15)"
      ],
      "metadata": {
        "colab": {
          "base_uri": "https://localhost:8080/",
          "height": 520
        },
        "id": "sOeZrBdswb3g",
        "outputId": "aa8d8dcc-382f-4a34-ad17-cf5885184e13"
      },
      "execution_count": 8,
      "outputs": [
        {
          "output_type": "execute_result",
          "data": {
            "text/html": [
              "\n",
              "  <div id=\"df-1cb59a8a-da33-4181-a773-0fa70c1d07cd\">\n",
              "    <div class=\"colab-df-container\">\n",
              "      <div>\n",
              "<style scoped>\n",
              "    .dataframe tbody tr th:only-of-type {\n",
              "        vertical-align: middle;\n",
              "    }\n",
              "\n",
              "    .dataframe tbody tr th {\n",
              "        vertical-align: top;\n",
              "    }\n",
              "\n",
              "    .dataframe thead th {\n",
              "        text-align: right;\n",
              "    }\n",
              "</style>\n",
              "<table border=\"1\" class=\"dataframe\">\n",
              "  <thead>\n",
              "    <tr style=\"text-align: right;\">\n",
              "      <th></th>\n",
              "      <th>Category</th>\n",
              "      <th>Message</th>\n",
              "      <th>Senders_Anonimity</th>\n",
              "      <th>legitimate_contact_info</th>\n",
              "      <th>Appealing_Subject</th>\n",
              "    </tr>\n",
              "  </thead>\n",
              "  <tbody>\n",
              "    <tr>\n",
              "      <th>0</th>\n",
              "      <td>ham</td>\n",
              "      <td>Even my brother is not like to speak with me. ...</td>\n",
              "      <td>no</td>\n",
              "      <td>yes</td>\n",
              "      <td>no</td>\n",
              "    </tr>\n",
              "    <tr>\n",
              "      <th>1</th>\n",
              "      <td>spam</td>\n",
              "      <td>WINNER!! As a valued network customer you have...</td>\n",
              "      <td>yes</td>\n",
              "      <td>no</td>\n",
              "      <td>yes</td>\n",
              "    </tr>\n",
              "    <tr>\n",
              "      <th>2</th>\n",
              "      <td>spam</td>\n",
              "      <td>SIX chances to win CASH! From 100 to 20,000 po...</td>\n",
              "      <td>yes</td>\n",
              "      <td>no</td>\n",
              "      <td>yes</td>\n",
              "    </tr>\n",
              "    <tr>\n",
              "      <th>3</th>\n",
              "      <td>spam</td>\n",
              "      <td>URGENT! You have won a 1 week FREE membership ...</td>\n",
              "      <td>yes</td>\n",
              "      <td>no</td>\n",
              "      <td>yes</td>\n",
              "    </tr>\n",
              "    <tr>\n",
              "      <th>4</th>\n",
              "      <td>ham</td>\n",
              "      <td>I've been searching for the right words to tha...</td>\n",
              "      <td>no</td>\n",
              "      <td>yes</td>\n",
              "      <td>no</td>\n",
              "    </tr>\n",
              "    <tr>\n",
              "      <th>5</th>\n",
              "      <td>ham</td>\n",
              "      <td>The guy did some bitching but I acted like i'd...</td>\n",
              "      <td>no</td>\n",
              "      <td>yes</td>\n",
              "      <td>no</td>\n",
              "    </tr>\n",
              "    <tr>\n",
              "      <th>6</th>\n",
              "      <td>ham</td>\n",
              "      <td>Get me out of this dump heap. My mom decided t...</td>\n",
              "      <td>no</td>\n",
              "      <td>yes</td>\n",
              "      <td>no</td>\n",
              "    </tr>\n",
              "    <tr>\n",
              "      <th>7</th>\n",
              "      <td>ham</td>\n",
              "      <td>Cool, what time you think you can get here?</td>\n",
              "      <td>no</td>\n",
              "      <td>yes</td>\n",
              "      <td>no</td>\n",
              "    </tr>\n",
              "    <tr>\n",
              "      <th>8</th>\n",
              "      <td>ham</td>\n",
              "      <td>Hey chief, can you give me a bell when you get...</td>\n",
              "      <td>no</td>\n",
              "      <td>yes</td>\n",
              "      <td>no</td>\n",
              "    </tr>\n",
              "    <tr>\n",
              "      <th>9</th>\n",
              "      <td>spam</td>\n",
              "      <td>England v Macedonia - dont miss the goals/team...</td>\n",
              "      <td>yes</td>\n",
              "      <td>no</td>\n",
              "      <td>yes</td>\n",
              "    </tr>\n",
              "    <tr>\n",
              "      <th>10</th>\n",
              "      <td>ham</td>\n",
              "      <td>Is that seriously how you spell his name?</td>\n",
              "      <td>no</td>\n",
              "      <td>yes</td>\n",
              "      <td>no</td>\n",
              "    </tr>\n",
              "    <tr>\n",
              "      <th>11</th>\n",
              "      <td>ham</td>\n",
              "      <td>IÛ÷m going to try for 2 months ha ha only joking</td>\n",
              "      <td>no</td>\n",
              "      <td>yes</td>\n",
              "      <td>no</td>\n",
              "    </tr>\n",
              "    <tr>\n",
              "      <th>12</th>\n",
              "      <td>ham</td>\n",
              "      <td>So Ì_ pay first lar... Then when is da stock c...</td>\n",
              "      <td>no</td>\n",
              "      <td>yes</td>\n",
              "      <td>no</td>\n",
              "    </tr>\n",
              "    <tr>\n",
              "      <th>13</th>\n",
              "      <td>ham</td>\n",
              "      <td>Aft i finish my lunch then i go str down lor. ...</td>\n",
              "      <td>no</td>\n",
              "      <td>yes</td>\n",
              "      <td>no</td>\n",
              "    </tr>\n",
              "    <tr>\n",
              "      <th>14</th>\n",
              "      <td>ham</td>\n",
              "      <td>Ffffffffff. Alright no way I can meet up with ...</td>\n",
              "      <td>no</td>\n",
              "      <td>yes</td>\n",
              "      <td>no</td>\n",
              "    </tr>\n",
              "  </tbody>\n",
              "</table>\n",
              "</div>\n",
              "      <button class=\"colab-df-convert\" onclick=\"convertToInteractive('df-1cb59a8a-da33-4181-a773-0fa70c1d07cd')\"\n",
              "              title=\"Convert this dataframe to an interactive table.\"\n",
              "              style=\"display:none;\">\n",
              "        \n",
              "  <svg xmlns=\"http://www.w3.org/2000/svg\" height=\"24px\"viewBox=\"0 0 24 24\"\n",
              "       width=\"24px\">\n",
              "    <path d=\"M0 0h24v24H0V0z\" fill=\"none\"/>\n",
              "    <path d=\"M18.56 5.44l.94 2.06.94-2.06 2.06-.94-2.06-.94-.94-2.06-.94 2.06-2.06.94zm-11 1L8.5 8.5l.94-2.06 2.06-.94-2.06-.94L8.5 2.5l-.94 2.06-2.06.94zm10 10l.94 2.06.94-2.06 2.06-.94-2.06-.94-.94-2.06-.94 2.06-2.06.94z\"/><path d=\"M17.41 7.96l-1.37-1.37c-.4-.4-.92-.59-1.43-.59-.52 0-1.04.2-1.43.59L10.3 9.45l-7.72 7.72c-.78.78-.78 2.05 0 2.83L4 21.41c.39.39.9.59 1.41.59.51 0 1.02-.2 1.41-.59l7.78-7.78 2.81-2.81c.8-.78.8-2.07 0-2.86zM5.41 20L4 18.59l7.72-7.72 1.47 1.35L5.41 20z\"/>\n",
              "  </svg>\n",
              "      </button>\n",
              "      \n",
              "  <style>\n",
              "    .colab-df-container {\n",
              "      display:flex;\n",
              "      flex-wrap:wrap;\n",
              "      gap: 12px;\n",
              "    }\n",
              "\n",
              "    .colab-df-convert {\n",
              "      background-color: #E8F0FE;\n",
              "      border: none;\n",
              "      border-radius: 50%;\n",
              "      cursor: pointer;\n",
              "      display: none;\n",
              "      fill: #1967D2;\n",
              "      height: 32px;\n",
              "      padding: 0 0 0 0;\n",
              "      width: 32px;\n",
              "    }\n",
              "\n",
              "    .colab-df-convert:hover {\n",
              "      background-color: #E2EBFA;\n",
              "      box-shadow: 0px 1px 2px rgba(60, 64, 67, 0.3), 0px 1px 3px 1px rgba(60, 64, 67, 0.15);\n",
              "      fill: #174EA6;\n",
              "    }\n",
              "\n",
              "    [theme=dark] .colab-df-convert {\n",
              "      background-color: #3B4455;\n",
              "      fill: #D2E3FC;\n",
              "    }\n",
              "\n",
              "    [theme=dark] .colab-df-convert:hover {\n",
              "      background-color: #434B5C;\n",
              "      box-shadow: 0px 1px 3px 1px rgba(0, 0, 0, 0.15);\n",
              "      filter: drop-shadow(0px 1px 2px rgba(0, 0, 0, 0.3));\n",
              "      fill: #FFFFFF;\n",
              "    }\n",
              "  </style>\n",
              "\n",
              "      <script>\n",
              "        const buttonEl =\n",
              "          document.querySelector('#df-1cb59a8a-da33-4181-a773-0fa70c1d07cd button.colab-df-convert');\n",
              "        buttonEl.style.display =\n",
              "          google.colab.kernel.accessAllowed ? 'block' : 'none';\n",
              "\n",
              "        async function convertToInteractive(key) {\n",
              "          const element = document.querySelector('#df-1cb59a8a-da33-4181-a773-0fa70c1d07cd');\n",
              "          const dataTable =\n",
              "            await google.colab.kernel.invokeFunction('convertToInteractive',\n",
              "                                                     [key], {});\n",
              "          if (!dataTable) return;\n",
              "\n",
              "          const docLinkHtml = 'Like what you see? Visit the ' +\n",
              "            '<a target=\"_blank\" href=https://colab.research.google.com/notebooks/data_table.ipynb>data table notebook</a>'\n",
              "            + ' to learn more about interactive tables.';\n",
              "          element.innerHTML = '';\n",
              "          dataTable['output_type'] = 'display_data';\n",
              "          await google.colab.output.renderOutput(dataTable, element);\n",
              "          const docLink = document.createElement('div');\n",
              "          docLink.innerHTML = docLinkHtml;\n",
              "          element.appendChild(docLink);\n",
              "        }\n",
              "      </script>\n",
              "    </div>\n",
              "  </div>\n",
              "  "
            ],
            "text/plain": [
              "   Category                                            Message  \\\n",
              "0       ham  Even my brother is not like to speak with me. ...   \n",
              "1      spam  WINNER!! As a valued network customer you have...   \n",
              "2      spam  SIX chances to win CASH! From 100 to 20,000 po...   \n",
              "3      spam  URGENT! You have won a 1 week FREE membership ...   \n",
              "4       ham  I've been searching for the right words to tha...   \n",
              "5       ham  The guy did some bitching but I acted like i'd...   \n",
              "6       ham  Get me out of this dump heap. My mom decided t...   \n",
              "7       ham        Cool, what time you think you can get here?   \n",
              "8       ham  Hey chief, can you give me a bell when you get...   \n",
              "9      spam  England v Macedonia - dont miss the goals/team...   \n",
              "10      ham          Is that seriously how you spell his name?   \n",
              "11      ham  IÛ÷m going to try for 2 months ha ha only joking   \n",
              "12      ham  So Ì_ pay first lar... Then when is da stock c...   \n",
              "13      ham  Aft i finish my lunch then i go str down lor. ...   \n",
              "14      ham  Ffffffffff. Alright no way I can meet up with ...   \n",
              "\n",
              "   Senders_Anonimity legitimate_contact_info Appealing_Subject  \n",
              "0                 no                     yes                no  \n",
              "1                yes                      no               yes  \n",
              "2                yes                      no               yes  \n",
              "3                yes                      no               yes  \n",
              "4                 no                     yes                no  \n",
              "5                 no                     yes                no  \n",
              "6                 no                     yes                no  \n",
              "7                 no                     yes                no  \n",
              "8                 no                     yes                no  \n",
              "9                yes                      no               yes  \n",
              "10                no                     yes                no  \n",
              "11                no                     yes                no  \n",
              "12                no                     yes                no  \n",
              "13                no                     yes                no  \n",
              "14                no                     yes                no  "
            ]
          },
          "metadata": {},
          "execution_count": 8
        }
      ]
    },
    {
      "cell_type": "code",
      "source": [
        "#checking the number of rows and columns\n",
        "mail_data.shape"
      ],
      "metadata": {
        "colab": {
          "base_uri": "https://localhost:8080/"
        },
        "id": "nHz8Fsb6wmS7",
        "outputId": "686537f5-f65c-463f-fce4-1760e3438566"
      },
      "execution_count": 9,
      "outputs": [
        {
          "output_type": "execute_result",
          "data": {
            "text/plain": [
              "(299, 5)"
            ]
          },
          "metadata": {},
          "execution_count": 9
        }
      ]
    },
    {
      "cell_type": "markdown",
      "source": [
        "Label Encoding"
      ],
      "metadata": {
        "id": "xVeDAEaLxNg0"
      }
    },
    {
      "cell_type": "code",
      "source": [
        "#spam as 0 and ham as 1\n",
        "mail_data.loc[mail_data['Category']=='spam', 'Category',]=0\n",
        "mail_data.loc[mail_data['Category']=='ham', 'Category',]=1"
      ],
      "metadata": {
        "id": "r57PfLPQw34B"
      },
      "execution_count": 10,
      "outputs": []
    },
    {
      "cell_type": "code",
      "source": [
        "#separating the data as texts and label\n",
        "\n",
        "X = mail_data['Message']\n",
        "Y = mail_data['Category']"
      ],
      "metadata": {
        "id": "0fQ_LApwxQ7V"
      },
      "execution_count": 11,
      "outputs": []
    },
    {
      "cell_type": "code",
      "source": [
        "print(X)"
      ],
      "metadata": {
        "colab": {
          "base_uri": "https://localhost:8080/"
        },
        "id": "nc9SciiOxV6A",
        "outputId": "20957301-2f4e-4b80-eead-ad62674dd61c"
      },
      "execution_count": 12,
      "outputs": [
        {
          "output_type": "stream",
          "name": "stdout",
          "text": [
            "0      Even my brother is not like to speak with me. ...\n",
            "1      WINNER!! As a valued network customer you have...\n",
            "2      SIX chances to win CASH! From 100 to 20,000 po...\n",
            "3      URGENT! You have won a 1 week FREE membership ...\n",
            "4      I've been searching for the right words to tha...\n",
            "                             ...                        \n",
            "294           Im good! I have been thinking about you...\n",
            "295                Got smaller capacity one? Quite ex...\n",
            "296    Ummmmmaah Many many happy returns of d day my ...\n",
            "297    URGENT This is our 2nd attempt to contact U. Y...\n",
            "298    Saw Guys and Dolls last night with Patrick Swa...\n",
            "Name: Message, Length: 299, dtype: object\n"
          ]
        }
      ]
    },
    {
      "cell_type": "code",
      "source": [
        "print(Y)"
      ],
      "metadata": {
        "colab": {
          "base_uri": "https://localhost:8080/"
        },
        "id": "jxAGAScLxarQ",
        "outputId": "86cd9bfb-7d64-4023-b92d-6e8d3af7a699"
      },
      "execution_count": 13,
      "outputs": [
        {
          "output_type": "stream",
          "name": "stdout",
          "text": [
            "0      1\n",
            "1      0\n",
            "2      0\n",
            "3      0\n",
            "4      1\n",
            "      ..\n",
            "294    1\n",
            "295    1\n",
            "296    1\n",
            "297    0\n",
            "298    1\n",
            "Name: Category, Length: 299, dtype: object\n"
          ]
        }
      ]
    },
    {
      "cell_type": "markdown",
      "source": [
        "Splitting the dataset"
      ],
      "metadata": {
        "id": "WuU47J-wx79s"
      }
    },
    {
      "cell_type": "code",
      "source": [
        "X_train, X_test, Y_train, Y_test = train_test_split(X,Y,test_size=0.2,random_state=4)"
      ],
      "metadata": {
        "id": "9xzn82pDxcuo"
      },
      "execution_count": 14,
      "outputs": []
    },
    {
      "cell_type": "code",
      "source": [
        "print(X.shape)\n",
        "print(X_train.shape)\n",
        "print(X_test.shape)"
      ],
      "metadata": {
        "colab": {
          "base_uri": "https://localhost:8080/"
        },
        "id": "IaN1OxmPyBOE",
        "outputId": "e039a45d-8537-4bc7-b8ca-2c8b0a0e6506"
      },
      "execution_count": 15,
      "outputs": [
        {
          "output_type": "stream",
          "name": "stdout",
          "text": [
            "(299,)\n",
            "(239,)\n",
            "(60,)\n"
          ]
        }
      ]
    },
    {
      "cell_type": "markdown",
      "source": [
        "Feature Extraction"
      ],
      "metadata": {
        "id": "4yD9ksfNy7Rk"
      }
    },
    {
      "cell_type": "code",
      "source": [
        "#transform the text data to feature vectors that can be used as input to the Random Forest model\n",
        "feature_extraction = TfidfVectorizer(min_df =1, stop_words='english', lowercase='True')\n",
        "X_train_features = feature_extraction.fit_transform(X_train)\n",
        "X_test_features = feature_extraction.transform(X_test)"
      ],
      "metadata": {
        "id": "WFmmXDesyHG1"
      },
      "execution_count": 16,
      "outputs": []
    },
    {
      "cell_type": "code",
      "source": [
        "#convert Y_train and Y_test values as integers\n",
        "Y_train = Y_train.astype('int')\n",
        "Y_test = Y_test.astype('int')"
      ],
      "metadata": {
        "id": "L5rUYhBNzOlN"
      },
      "execution_count": 17,
      "outputs": []
    },
    {
      "cell_type": "code",
      "source": [
        "#print the raw data\n",
        "print(X_train)"
      ],
      "metadata": {
        "colab": {
          "base_uri": "https://localhost:8080/"
        },
        "id": "KZqJNPOHzTez",
        "outputId": "deea7c31-2de5-4fe7-b2c3-7c1c68347112"
      },
      "execution_count": 18,
      "outputs": [
        {
          "output_type": "stream",
          "name": "stdout",
          "text": [
            "93     my ex-wife was not able to have kids. Do you w...\n",
            "92        Ok anyway no need to change with what you said\n",
            "47                             Its a part of checking IQ\n",
            "156                           Fine i miss you very much.\n",
            "83                            Hi msg me:)i'm in office..\n",
            "                             ...                        \n",
            "58     Nope... Think i will go for it on monday... So...\n",
            "87     I'm tired of arguing with you about this week ...\n",
            "197                        How much r Ì_ willing to pay?\n",
            "174       I've got  &lt;#&gt; , any way I could pick up?\n",
            "122    I come n pick Ì_ up... Come out immediately af...\n",
            "Name: Message, Length: 239, dtype: object\n"
          ]
        }
      ]
    },
    {
      "cell_type": "code",
      "source": [
        "#print the numerical values of the data\n",
        "print(X_train_features)"
      ],
      "metadata": {
        "colab": {
          "base_uri": "https://localhost:8080/"
        },
        "id": "83cB_3vczmtL",
        "outputId": "745c4d4f-1f30-4dd3-f6fa-9e0458f9c9f2"
      },
      "execution_count": 19,
      "outputs": [
        {
          "output_type": "stream",
          "name": "stdout",
          "text": [
            "  (0, 291)\t0.26946840298136415\n",
            "  (0, 1002)\t0.255806180819103\n",
            "  (0, 547)\t0.7086917590623176\n",
            "  (0, 99)\t0.3295208090624242\n",
            "  (0, 1025)\t0.3543458795311588\n",
            "  (0, 364)\t0.3543458795311588\n",
            "  (1, 793)\t0.5050455331598177\n",
            "  (1, 227)\t0.6000464457012059\n",
            "  (1, 661)\t0.44410388265207296\n",
            "  (1, 681)\t0.43318011709913334\n",
            "  (2, 525)\t0.7071067811865475\n",
            "  (2, 231)\t0.7071067811865475\n",
            "  (3, 637)\t0.6710457494204682\n",
            "  (3, 395)\t0.741415944112832\n",
            "  (4, 679)\t0.6428449306908491\n",
            "  (4, 651)\t0.5416412073896691\n",
            "  (4, 482)\t0.5416412073896691\n",
            "  (5, 262)\t0.7871492401680337\n",
            "  (5, 594)\t0.6167625748234787\n",
            "  (6, 369)\t0.5451551509291896\n",
            "  (6, 905)\t0.44167091723011437\n",
            "  (6, 707)\t0.4588447708145473\n",
            "  (6, 480)\t0.5451551509291896\n",
            "  (7, 1040)\t0.22900078021227324\n",
            "  (7, 692)\t0.5203182110599436\n",
            "  :\t:\n",
            "  (234, 673)\t0.4513921618857131\n",
            "  (234, 929)\t0.36570651461466785\n",
            "  (234, 558)\t0.3973305375683817\n",
            "  (234, 856)\t0.3116448902973365\n",
            "  (235, 140)\t0.4296363818923484\n",
            "  (235, 939)\t0.4296363818923484\n",
            "  (235, 1016)\t0.6732742092902276\n",
            "  (235, 590)\t0.28518109226357324\n",
            "  (235, 1002)\t0.31015922109277716\n",
            "  (236, 1027)\t0.6397780065757824\n",
            "  (236, 1063)\t0.48653016065174\n",
            "  (236, 696)\t0.5949558849848533\n",
            "  (237, 702)\t0.4270561177595061\n",
            "  (237, 1009)\t0.47183998261112775\n",
            "  (237, 990)\t0.4270561177595061\n",
            "  (237, 454)\t0.385851099779525\n",
            "  (237, 605)\t0.37552511121269927\n",
            "  (237, 444)\t0.35030414645777347\n",
            "  (238, 113)\t0.38007280370764035\n",
            "  (238, 513)\t0.38007280370764035\n",
            "  (238, 702)\t0.3198986897818503\n",
            "  (238, 979)\t0.2812979045643284\n",
            "  (238, 573)\t0.3345528437654037\n",
            "  (238, 1063)\t0.289032883823167\n",
            "  (238, 250)\t0.578065767646334\n"
          ]
        }
      ]
    },
    {
      "cell_type": "markdown",
      "source": [
        "Training the model"
      ],
      "metadata": {
        "id": "WVH2niEX0OZU"
      }
    },
    {
      "cell_type": "code",
      "source": [
        "model = RandomForestClassifier(random_state=4)\n",
        "model.fit(X_train_features,Y_train)"
      ],
      "metadata": {
        "colab": {
          "base_uri": "https://localhost:8080/"
        },
        "id": "F8sVXsGAz12h",
        "outputId": "eb75fcd0-d6ff-41f9-8d0a-86d371c0d967"
      },
      "execution_count": 20,
      "outputs": [
        {
          "output_type": "execute_result",
          "data": {
            "text/plain": [
              "RandomForestClassifier(random_state=4)"
            ]
          },
          "metadata": {},
          "execution_count": 20
        }
      ]
    },
    {
      "cell_type": "markdown",
      "source": [
        "Evaluating the trained model"
      ],
      "metadata": {
        "id": "9InCpffi07Pk"
      }
    },
    {
      "cell_type": "code",
      "source": [
        "#prediction on training data\n",
        "\n",
        "prediction_on_training_data = model.predict(X_train_features)\n",
        "accuracy_on_training_data = accuracy_score(Y_train, prediction_on_training_data)"
      ],
      "metadata": {
        "id": "xaVIkR-t0qkv"
      },
      "execution_count": 21,
      "outputs": []
    },
    {
      "cell_type": "code",
      "source": [
        "print('Accuracy on training data :',accuracy_on_training_data)"
      ],
      "metadata": {
        "colab": {
          "base_uri": "https://localhost:8080/"
        },
        "id": "emAA9BCH1UTL",
        "outputId": "ad27a087-09ca-4020-833a-c545e236aea0"
      },
      "execution_count": 22,
      "outputs": [
        {
          "output_type": "stream",
          "name": "stdout",
          "text": [
            "Accuracy on training data : 1.0\n"
          ]
        }
      ]
    },
    {
      "cell_type": "code",
      "source": [
        "#prediction on test data\n",
        "\n",
        "prediction_on_test_data = model.predict(X_test_features)\n",
        "accuracy_on_test_data = accuracy_score(Y_test, prediction_on_test_data)"
      ],
      "metadata": {
        "id": "qaZj39iZ1X85"
      },
      "execution_count": 23,
      "outputs": []
    },
    {
      "cell_type": "code",
      "source": [
        "print('Accuracy on test data :',accuracy_on_test_data)"
      ],
      "metadata": {
        "colab": {
          "base_uri": "https://localhost:8080/"
        },
        "id": "xxnz2ADl1qgD",
        "outputId": "18dbfcbb-8c94-4775-9e88-95aea5ea4a4b"
      },
      "execution_count": null,
      "outputs": [
        {
          "output_type": "stream",
          "name": "stdout",
          "text": [
            "Accuracy on test data : 0.9166666666666666\n"
          ]
        }
      ]
    },
    {
      "cell_type": "code",
      "source": [
        "from sklearn.metrics import confusion_matrix, classification_report"
      ],
      "metadata": {
        "id": "9q2qaWVa1tgd"
      },
      "execution_count": 24,
      "outputs": []
    },
    {
      "cell_type": "code",
      "source": [
        "print(confusion_matrix(Y_test,prediction_on_test_data))"
      ],
      "metadata": {
        "colab": {
          "base_uri": "https://localhost:8080/"
        },
        "id": "jTpjKp4h3WV1",
        "outputId": "f48b67f3-a788-46a7-90f1-38db466608ec"
      },
      "execution_count": null,
      "outputs": [
        {
          "output_type": "stream",
          "name": "stdout",
          "text": [
            "[[ 5  5]\n",
            " [ 0 50]]\n"
          ]
        }
      ]
    },
    {
      "cell_type": "code",
      "source": [
        "print(classification_report(Y_test,prediction_on_test_data))"
      ],
      "metadata": {
        "colab": {
          "base_uri": "https://localhost:8080/"
        },
        "id": "OtDY5qtc3sIo",
        "outputId": "80a31e02-e0fc-470e-e5cb-16bc6acfa9e9"
      },
      "execution_count": 25,
      "outputs": [
        {
          "output_type": "stream",
          "name": "stdout",
          "text": [
            "              precision    recall  f1-score   support\n",
            "\n",
            "           0       1.00      0.50      0.67        10\n",
            "           1       0.91      1.00      0.95        50\n",
            "\n",
            "    accuracy                           0.92        60\n",
            "   macro avg       0.95      0.75      0.81        60\n",
            "weighted avg       0.92      0.92      0.90        60\n",
            "\n"
          ]
        }
      ]
    },
    {
      "cell_type": "code",
      "source": [
        "print('Precision: ',precision_score(Y_test,prediction_on_test_data))"
      ],
      "metadata": {
        "id": "4V4Shbum37MX",
        "colab": {
          "base_uri": "https://localhost:8080/"
        },
        "outputId": "b6633ed3-2f5e-4410-fa75-8444e9f63a2b"
      },
      "execution_count": 26,
      "outputs": [
        {
          "output_type": "stream",
          "name": "stdout",
          "text": [
            "Precision:  0.9090909090909091\n"
          ]
        }
      ]
    },
    {
      "cell_type": "code",
      "source": [
        "print('Recall: ',recall_score(Y_test,prediction_on_test_data))"
      ],
      "metadata": {
        "colab": {
          "base_uri": "https://localhost:8080/"
        },
        "id": "aPE5HAN3AUio",
        "outputId": "451fa15a-bd60-4745-93b9-1c307f8fa84c"
      },
      "execution_count": 27,
      "outputs": [
        {
          "output_type": "stream",
          "name": "stdout",
          "text": [
            "Recall:  1.0\n"
          ]
        }
      ]
    },
    {
      "cell_type": "code",
      "source": [
        "print('F1 Score: ',f1_score(Y_test,prediction_on_test_data))"
      ],
      "metadata": {
        "colab": {
          "base_uri": "https://localhost:8080/"
        },
        "id": "EJl1NRK9Ahxd",
        "outputId": "fde5c31b-15a5-4818-9e94-f5db0d744710"
      },
      "execution_count": 28,
      "outputs": [
        {
          "output_type": "stream",
          "name": "stdout",
          "text": [
            "F1 Score:  0.9523809523809523\n"
          ]
        }
      ]
    },
    {
      "cell_type": "code",
      "source": [
        ""
      ],
      "metadata": {
        "id": "-0E5wfeRBEoc"
      },
      "execution_count": null,
      "outputs": []
    }
  ]
}